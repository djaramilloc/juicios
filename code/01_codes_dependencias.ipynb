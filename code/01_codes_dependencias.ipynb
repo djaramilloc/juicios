{
 "cells": [
  {
   "cell_type": "code",
   "execution_count": 1,
   "metadata": {},
   "outputs": [],
   "source": [
    "from pathlib import Path\n",
    "from  pyprojroot import here\n",
    "import pandas as pd\n",
    "\n",
    "from selenium import webdriver\n",
    "from selenium.common.exceptions import ElementNotInteractableException, StaleElementReferenceException\n",
    "\n",
    "import warnings\n",
    "warnings.filterwarnings(\"ignore\", category=DeprecationWarning) \n",
    "from scrap_juicios import scrap_dependencias\n",
    "\n",
    "from fake_useragent import UserAgent"
   ]
  },
  {
   "cell_type": "code",
   "execution_count": 2,
   "metadata": {},
   "outputs": [],
   "source": [
    "# Define paths\n",
    "root = here()\n",
    "db = root/'data'"
   ]
  },
  {
   "cell_type": "markdown",
   "metadata": {},
   "source": [
    "***\n",
    "### Get lista de dependencias a buscar"
   ]
  },
  {
   "cell_type": "code",
   "execution_count": 3,
   "metadata": {},
   "outputs": [],
   "source": [
    "# Load dependencias codes\n",
    "db_depen = pd.read_csv(db/'raw/codigos_dependencias_satje.csv', header=None, names=['id_dependencia'])\n",
    "\n",
    "# El Codigo de dependencia tiene 5 digitos. Lo convierto a string y anado un cero a los que tienen 4\n",
    "db_depen['id_dependencia'] = db_depen['id_dependencia'].apply(lambda x: \"0\" + str(x) if len(str(x))==4 else str(x))\n",
    "db_depen = db_depen.sort_values(by='id_dependencia').reset_index(drop=True)"
   ]
  },
  {
   "cell_type": "markdown",
   "metadata": {},
   "source": [
    "***\n",
    "### Webscrap the data"
   ]
  },
  {
   "cell_type": "code",
   "execution_count": 4,
   "metadata": {},
   "outputs": [],
   "source": [
    "def obtener_codigos(restantes):\n",
    "\n",
    "    # Start Selenium Session\n",
    "    options = webdriver.FirefoxOptions()\n",
    "    #options.headless = True # do not show browser window\n",
    "    options.page_load_strategy = 'none' # Dont wait page to be loaded\n",
    "    options.set_preference(\"general.useragent.override\", UserAgent().random)\n",
    "\n",
    "    # Start Driver\n",
    "    gecko_path = Path.home()/'Documents/geckodriver.exe'\n",
    "    driver = webdriver.Firefox(executable_path=gecko_path, options=options)\n",
    "    url = 'http://consultas.funcionjudicial.gob.ec/informacionjudicial/public/informacion.jsf'\n",
    "    driver.get(url)\n",
    "\n",
    "    # Loop over faltantes\n",
    "    for index, depnumber in enumerate(restantes['id_dependencia']):\n",
    "\n",
    "        # Para capturar errores en el webscrap\n",
    "        try:\n",
    "            # Call webscraper\n",
    "            respuesta = scrap_dependencias(driver, depnumber, delay=2)\n",
    "\n",
    "            # If it worked\n",
    "            if respuesta != False:\n",
    "                restantes.loc[index, 'nombre'] = respuesta\n",
    "\n",
    "            # Si no funciono, probamos cambiando year y caso\n",
    "            else:\n",
    "                # Probar con anios\n",
    "                for yr in range(2019, 2022):\n",
    "                    year = str(yr)\n",
    "\n",
    "                    # Probar con secuenciales\n",
    "                    for start in range(2, 7):\n",
    "                        secuencial = (5 - len(str(start)))*'0' + str(start)\n",
    "                        respuesta = scrap_dependencias(driver, depnumber, secuencial, year, delay=2)\n",
    "\n",
    "                        if respuesta != False:\n",
    "                            restantes.loc[index, 'nombre'] = respuesta\n",
    "                            break\n",
    "                    \n",
    "                    if respuesta != False:\n",
    "                        break\n",
    "\n",
    "                    else:\n",
    "                        restantes.loc[index, 'nombre'] = 'No se encuentra'\n",
    "\n",
    "        except (ElementNotInteractableException, StaleElementReferenceException, PermissionError):\n",
    "            driver.close()\n",
    "            return {'estado': False, 'df': restantes}\n",
    "\n",
    "    return {'estado': True, 'df': restantes}"
   ]
  },
  {
   "cell_type": "code",
   "execution_count": 5,
   "metadata": {},
   "outputs": [],
   "source": [
    "# Load Datasets\n",
    "df_dependencias = pd.read_csv(db/'raw/judicaturas/codes1.csv')\n",
    "restantes = df_dependencias.loc[df_dependencias['nombre'].isna()].reset_index(drop = True)\n",
    "completos = df_dependencias.loc[~df_dependencias['nombre'].isna()].copy()\n",
    "\n",
    "\n",
    "# Primera iteracion\n",
    "rest = obtener_codigos(restantes)\n",
    "\n",
    "# Mientras haya faltantes\n",
    "while rest['estado'] == False:\n",
    "    dfdepen = pd.concat([completos, rest['df']], ignore_index=True).to_csv(db/'raw/judicaturas/codes1.csv', index=False)\n",
    "    completos = pd.concat([completos, rest['df'].loc[~rest['df']['nombre'].isna()]], ignore_index=True)\n",
    "    restantes = rest['df'].loc[rest['df']['nombre'].isna()].reset_index(drop=True).copy()\n",
    "    rest = obtener_codigos(restantes)\n",
    "\n",
    "else:\n",
    "    dfdepen = pd.concat([completos, rest['df']], ignore_index=True).to_csv(db/'raw/judicaturas/codes1.csv', index=False)\n"
   ]
  },
  {
   "cell_type": "markdown",
   "metadata": {},
   "source": [
    "***\n",
    "### Get list of crimes"
   ]
  },
  {
   "cell_type": "code",
   "execution_count": null,
   "metadata": {},
   "outputs": [],
   "source": [
    "crimenes = pd.read_excel(db/'raw/judicaturas/1123_Causas_delitos.xlsx', skiprows=6, usecols='B:F')\n",
    "delitos = crimenes[['NOMBRE DELITO']].copy()\n",
    "delitos.drop_duplicates(inplace=True)\n",
    "delitos.dropna(inplace=True)\n",
    "delitos.to_csv(db/'proc/lista_delitos.csv', index=False)"
   ]
  }
 ],
 "metadata": {
  "interpreter": {
   "hash": "111f45d5cd44a46b63817eb6af1a1f88232e066f11afb46471b9fd257e3e891c"
  },
  "kernelspec": {
   "display_name": "Python 3.10.4 ('wscrap')",
   "language": "python",
   "name": "python3"
  },
  "language_info": {
   "codemirror_mode": {
    "name": "ipython",
    "version": 3
   },
   "file_extension": ".py",
   "mimetype": "text/x-python",
   "name": "python",
   "nbconvert_exporter": "python",
   "pygments_lexer": "ipython3",
   "version": "3.10.4"
  },
  "orig_nbformat": 4
 },
 "nbformat": 4,
 "nbformat_minor": 2
}
