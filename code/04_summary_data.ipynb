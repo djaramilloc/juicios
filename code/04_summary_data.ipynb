{
 "cells": [
  {
   "cell_type": "markdown",
   "metadata": {},
   "source": [
    "## Summary of data\n",
    "\n",
    "This script allow to see the crimes from 2015-2020, and the judicaturas that had such cases"
   ]
  },
  {
   "cell_type": "code",
   "execution_count": 1,
   "metadata": {},
   "outputs": [],
   "source": [
    "import pandas as pd\n",
    "from pathlib import Path"
   ]
  },
  {
   "cell_type": "code",
   "execution_count": 6,
   "metadata": {},
   "outputs": [],
   "source": [
    "# Definir paths\n",
    "root = Path.cwd().parent\n",
    "raw = root/'data/raw'\n",
    "proc = root/'data/proc'"
   ]
  },
  {
   "cell_type": "markdown",
   "metadata": {},
   "source": [
    "***\n",
    "### Get list of judicaturas \n",
    "\n",
    "There are two sources for the judicaturas codes: File sent by Consejo, and scrapped data.\n",
    "\n",
    "First I will load the file from Consejo. It only includes the judicaturas that substanciate penal cases"
   ]
  },
  {
   "cell_type": "code",
   "execution_count": 68,
   "metadata": {},
   "outputs": [],
   "source": [
    "cods_20 = pd.read_excel(raw/'satje/0645_Id_Judicaturas.xlsx', skiprows = 5, usecols='B:C', skipfooter=5)\n",
    "cods_20 = cods_20[cods_20['ID_JUDICATURA'].str.startswith('09')].copy()\n",
    "cods_20['penal'] = 'penal'\n",
    "cods_20.reset_index(drop=True, inplace=True)"
   ]
  },
  {
   "cell_type": "markdown",
   "metadata": {},
   "source": [
    "Get list of ready judicaturas"
   ]
  },
  {
   "cell_type": "code",
   "execution_count": 64,
   "metadata": {},
   "outputs": [],
   "source": [
    "cods_15 = list((proc/'delitos_web/').glob(r'*.xls'))\n",
    "cods_15 = list(map(lambda x: x.name[8:13], cods_15))\n",
    "cods_15 = pd.DataFrame(cods_15, columns=['id_judicatura'])\n",
    "\n",
    "# Limit to only Guayaquil\n",
    "cods_15 = cods_15[cods_15['id_judicatura'].str.startswith('09')].reset_index(drop=True).copy()"
   ]
  },
  {
   "cell_type": "markdown",
   "metadata": {},
   "source": [
    "Merge codes to see if we get all the penal judicaturas"
   ]
  },
  {
   "cell_type": "code",
   "execution_count": 69,
   "metadata": {},
   "outputs": [],
   "source": [
    "cods = pd.merge(cods_20,\n",
    "    cods_15,\n",
    "    how='outer',\n",
    "    left_on=['ID_JUDICATURA'],\n",
    "    right_on=['id_judicatura'],\n",
    "    validate='1:1',\n",
    "    indicator=True)"
   ]
  },
  {
   "cell_type": "markdown",
   "metadata": {},
   "source": [
    "***\n",
    "### Get List of crimenes\n",
    "\n",
    "I will get the list in to sets. First, those that match the penal judicaturas, and then those than dont."
   ]
  },
  {
   "cell_type": "code",
   "execution_count": 79,
   "metadata": {},
   "outputs": [],
   "source": [
    "matched_codes = list(cods.loc[(cods['_merge']=='both'), 'id_judicatura'])\n",
    "causas=pd.DataFrame()\n",
    "\n",
    "for idj in matched_codes:\n",
    "\n",
    "    # Load data\n",
    "    df = pd.read_excel(proc/f\"delitos_web/delitos_{idj}.xls\")\n",
    "\n",
    "    # Keep only crimenes\n",
    "    df.drop_duplicates(subset='causa', inplace=True)\n",
    "\n",
    "    # Add code of judicatura\n",
    "    df['id_judicatura'] = idj\n",
    "    \n",
    "    # Append causas\n",
    "    causas = pd.concat([causas, df[['id_judicatura', 'causa']]], ignore_index=True)"
   ]
  },
  {
   "cell_type": "code",
   "execution_count": 103,
   "metadata": {},
   "outputs": [],
   "source": [
    "causas = causas.loc[~causas['causa'].isna()]"
   ]
  },
  {
   "cell_type": "code",
   "execution_count": 124,
   "metadata": {},
   "outputs": [
    {
     "name": "stderr",
     "output_type": "stream",
     "text": [
      "C:\\Users\\DanielJaramillo\\AppData\\Local\\Temp\\ipykernel_25968\\834403481.py:1: SettingWithCopyWarning: \n",
      "A value is trying to be set on a copy of a slice from a DataFrame.\n",
      "Try using .loc[row_indexer,col_indexer] = value instead\n",
      "\n",
      "See the caveats in the documentation: https://pandas.pydata.org/pandas-docs/stable/user_guide/indexing.html#returning-a-view-versus-a-copy\n",
      "  causas['nombre_simple'] = (causas\n"
     ]
    }
   ],
   "source": [
    "causas['nombre_simple'] = (causas\n",
    "    .loc[causas['causa'].apply(lambda x: x[0].isdigit()), 'causa']\n",
    "    .apply(lambda t: t[t.find(' ')+1:]))"
   ]
  },
  {
   "cell_type": "code",
   "execution_count": 127,
   "metadata": {},
   "outputs": [
    {
     "name": "stderr",
     "output_type": "stream",
     "text": [
      "C:\\Users\\DanielJaramillo\\AppData\\Local\\Temp\\ipykernel_25968\\3457790540.py:1: SettingWithCopyWarning: \n",
      "A value is trying to be set on a copy of a slice from a DataFrame\n",
      "\n",
      "See the caveats in the documentation: https://pandas.pydata.org/pandas-docs/stable/user_guide/indexing.html#returning-a-view-versus-a-copy\n",
      "  causas.loc[causas['nombre_simple'].isna(), 'nombre_simple'] = causas['causa']\n"
     ]
    }
   ],
   "source": [
    "causas.loc[causas['nombre_simple'].isna(), 'nombre_simple'] = causas['causa']"
   ]
  },
  {
   "cell_type": "code",
   "execution_count": 129,
   "metadata": {},
   "outputs": [],
   "source": [
    "(causas[['causa', 'nombre_simple']]\n",
    " .drop_duplicates('causa')\n",
    " .sort_values(['nombre_simple', 'causa'])\n",
    " .to_csv(proc/'lista_delitos_15_20.csv', encoding='latin-1', index=False))"
   ]
  },
  {
   "cell_type": "code",
   "execution_count": 142,
   "metadata": {},
   "outputs": [
    {
     "data": {
      "text/html": [
       "<div>\n",
       "<style scoped>\n",
       "    .dataframe tbody tr th:only-of-type {\n",
       "        vertical-align: middle;\n",
       "    }\n",
       "\n",
       "    .dataframe tbody tr th {\n",
       "        vertical-align: top;\n",
       "    }\n",
       "\n",
       "    .dataframe thead th {\n",
       "        text-align: right;\n",
       "    }\n",
       "</style>\n",
       "<table border=\"1\" class=\"dataframe\">\n",
       "  <thead>\n",
       "    <tr style=\"text-align: right;\">\n",
       "      <th></th>\n",
       "      <th>id_judicatura</th>\n",
       "      <th>causa</th>\n",
       "      <th>nombre_simple</th>\n",
       "    </tr>\n",
       "  </thead>\n",
       "  <tbody>\n",
       "    <tr>\n",
       "      <th>2428</th>\n",
       "      <td>09318</td>\n",
       "      <td>MALTRATO DE NIÑOS NIÑAS Y ADOLESCENTES</td>\n",
       "      <td>MALTRATO DE NIÑOS NIÑAS Y ADOLESCENTES</td>\n",
       "    </tr>\n",
       "    <tr>\n",
       "      <th>3011</th>\n",
       "      <td>09322</td>\n",
       "      <td>MALTRATO DE NIÑOS NIÑAS Y ADOLESCENTES</td>\n",
       "      <td>MALTRATO DE NIÑOS NIÑAS Y ADOLESCENTES</td>\n",
       "    </tr>\n",
       "    <tr>\n",
       "      <th>3430</th>\n",
       "      <td>09327</td>\n",
       "      <td>MALTRATO DE NIÑOS NIÑAS Y ADOLESCENTES</td>\n",
       "      <td>MALTRATO DE NIÑOS NIÑAS Y ADOLESCENTES</td>\n",
       "    </tr>\n",
       "  </tbody>\n",
       "</table>\n",
       "</div>"
      ],
      "text/plain": [
       "     id_judicatura                                   causa  \\\n",
       "2428         09318  MALTRATO DE NIÑOS NIÑAS Y ADOLESCENTES   \n",
       "3011         09322  MALTRATO DE NIÑOS NIÑAS Y ADOLESCENTES   \n",
       "3430         09327  MALTRATO DE NIÑOS NIÑAS Y ADOLESCENTES   \n",
       "\n",
       "                               nombre_simple  \n",
       "2428  MALTRATO DE NIÑOS NIÑAS Y ADOLESCENTES  \n",
       "3011  MALTRATO DE NIÑOS NIÑAS Y ADOLESCENTES  \n",
       "3430  MALTRATO DE NIÑOS NIÑAS Y ADOLESCENTES  "
      ]
     },
     "execution_count": 142,
     "metadata": {},
     "output_type": "execute_result"
    }
   ],
   "source": [
    "causas[causas['causa'].str.startswith(r'MALTRATO DE')]"
   ]
  },
  {
   "cell_type": "code",
   "execution_count": null,
   "metadata": {},
   "outputs": [],
   "source": []
  }
 ],
 "metadata": {
  "interpreter": {
   "hash": "6e3e299330edb043d27befe0b4dd74b7aca0533b06d3d7837bab63e555d79b9e"
  },
  "kernelspec": {
   "display_name": "Python 3.9.10 ('geoenv')",
   "language": "python",
   "name": "python3"
  },
  "language_info": {
   "codemirror_mode": {
    "name": "ipython",
    "version": 3
   },
   "file_extension": ".py",
   "mimetype": "text/x-python",
   "name": "python",
   "nbconvert_exporter": "python",
   "pygments_lexer": "ipython3",
   "version": "3.9.10"
  },
  "orig_nbformat": 4
 },
 "nbformat": 4,
 "nbformat_minor": 2
}
