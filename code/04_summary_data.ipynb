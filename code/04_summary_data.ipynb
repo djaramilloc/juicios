{
 "cells": [
  {
   "cell_type": "markdown",
   "metadata": {},
   "source": [
    "## Summary of data\n",
    "\n",
    "This script allow to see the crimes from 2015-2020, and the judicaturas that had such cases"
   ]
  },
  {
   "cell_type": "code",
   "execution_count": null,
   "metadata": {},
   "outputs": [],
   "source": [
    "import pandas as pd\n",
    "from pathlib import Path"
   ]
  },
  {
   "cell_type": "code",
   "execution_count": null,
   "metadata": {},
   "outputs": [],
   "source": [
    "# Definir paths\n",
    "root = Path.cwd().parent\n",
    "raw = root/'data/raw'\n",
    "proc = root/'data/proc'"
   ]
  },
  {
   "cell_type": "markdown",
   "metadata": {},
   "source": [
    "***\n",
    "### Get list of judicaturas \n",
    "\n",
    "There are two sources for the judicaturas codes: File sent by Consejo, and scrapped data.\n",
    "\n",
    "First I will load the file from Consejo. It only includes the judicaturas that substanciate penal cases"
   ]
  },
  {
   "cell_type": "code",
   "execution_count": null,
   "metadata": {},
   "outputs": [],
   "source": [
    "cods_20 = pd.read_excel(raw/'satje/0645_Id_Judicaturas.xlsx', skiprows = 5, usecols='B:C', skipfooter=5)\n",
    "cods_20 = cods_20[cods_20['ID_JUDICATURA'].str.startswith('09')].copy()\n",
    "cods_20['penal'] = 'penal'\n",
    "cods_20.reset_index(drop=True, inplace=True)"
   ]
  },
  {
   "cell_type": "markdown",
   "metadata": {},
   "source": [
    "Get list of ready judicaturas"
   ]
  },
  {
   "cell_type": "code",
   "execution_count": null,
   "metadata": {},
   "outputs": [],
   "source": [
    "cods_15 = list((proc/'delitos_web/').glob(r'*.xls'))\n",
    "cods_15 = list(map(lambda x: x.name[8:13], cods_15))\n",
    "cods_15 = pd.DataFrame(cods_15, columns=['id_judicatura'])\n",
    "\n",
    "# Limit to only Guayaquil\n",
    "cods_15 = cods_15[cods_15['id_judicatura'].str.startswith('09')].reset_index(drop=True).copy()"
   ]
  },
  {
   "cell_type": "markdown",
   "metadata": {},
   "source": [
    "Merge codes to see if we get all the penal judicaturas"
   ]
  },
  {
   "cell_type": "code",
   "execution_count": null,
   "metadata": {},
   "outputs": [],
   "source": [
    "cods = pd.merge(cods_20,\n",
    "    cods_15,\n",
    "    how='outer',\n",
    "    left_on=['ID_JUDICATURA'],\n",
    "    right_on=['id_judicatura'],\n",
    "    validate='1:1',\n",
    "    indicator=True)"
   ]
  },
  {
   "cell_type": "code",
   "execution_count": 36,
   "metadata": {},
   "outputs": [],
   "source": [
    "cods_penal = cods.loc[cods['penal']=='penal', ['ID_JUDICATURA', 'JUDICATURA', '_merge']]\n",
    "cods_penal.rename(columns={'_merge': 'descargadas'}, inplace=True)"
   ]
  },
  {
   "cell_type": "markdown",
   "metadata": {},
   "source": [
    "***\n",
    "### Get List of crimenes\n",
    "\n",
    "I manually set the penalties for all the cases found in the extracted data."
   ]
  },
  {
   "cell_type": "code",
   "execution_count": null,
   "metadata": {},
   "outputs": [],
   "source": [
    "# Load file\n",
    "causas = pd.read_excel(proc/'delitos_15_20.xlsx')\n",
    "\n",
    "# Keep only observations that are penal\n",
    "causas = causas.loc[causas['penal'].isna()]"
   ]
  },
  {
   "cell_type": "markdown",
   "metadata": {},
   "source": [
    "***\n",
    "### How many numbres have the secuencial\n",
    "\n",
    "Tengo que ver cuantos # tiene el secuancial (despues de año) en cada dependencia.\n",
    "\n",
    "Hacer un loop sobre todos los archivos. Coger las causas. Quedarnos con los numeros. Ver cuantos aparecen despues del anio."
   ]
  },
  {
   "cell_type": "code",
   "execution_count": 45,
   "metadata": {},
   "outputs": [],
   "source": [
    "# List of files\n",
    "files15 = list((proc/'delitos_web/').glob('*.xls'))"
   ]
  },
  {
   "cell_type": "code",
   "execution_count": 60,
   "metadata": {},
   "outputs": [],
   "source": [
    "def num_secuencial(df:pd.DataFrame):\n",
    "    \"\"\"\n",
    "    Gets the number of secuencial for each year in df\n",
    "    \"\"\"\n",
    "    # Delete casos not found\n",
    "    df = df.loc[(~df['id_proceso'].isna())&(df['causa']!='No existe este proceso')].copy()\n",
    "    df = df[['id_proceso']].copy()\n",
    "\n",
    "    # Clean secuencial\n",
    "    df['id_proceso'] = df['id_proceso'].str.replace('-', '')\n",
    "    df['id_judicatura'] = df['id_proceso'].apply(lambda x: x[0:5])\n",
    "    df['year'] = df['id_proceso'].apply(lambda x: x[5:9])\n",
    "    df['secuencial'] = df['id_proceso'].apply(lambda x: x.split(x[5:9])[1])\n",
    "    df['secuencial'] = df['secuencial'].str.replace('\\D', '', regex=True)\n",
    "\n",
    "    df['nsec'] = df['secuencial'].apply(lambda x: len(x))\n",
    "\n",
    "    # Collapse by year\n",
    "    df = df.groupby(by=['id_judicatura', 'year'], as_index=False).agg(min=('nsec', 'min'), max=('nsec', 'max'))\n",
    "\n",
    "    return df"
   ]
  },
  {
   "cell_type": "code",
   "execution_count": 61,
   "metadata": {},
   "outputs": [],
   "source": [
    "num_sec = pd.DataFrame()\n",
    "for file in files15:\n",
    "    df = pd.read_excel(file, dtype={'id_proceso': str})\n",
    "    num_sec = pd.concat([num_sec, num_secuencial(df)], ignore_index=True)"
   ]
  },
  {
   "cell_type": "code",
   "execution_count": 69,
   "metadata": {},
   "outputs": [],
   "source": [
    "# Contar cuantos anos tengo para cada judicatura\n",
    "nyear = num_sec.groupby(['id_judicatura'], as_index=False).agg(nyear=('year', 'count'))\n",
    "num_sec = num_sec.merge(nyear)"
   ]
  },
  {
   "cell_type": "markdown",
   "metadata": {},
   "source": [
    "***\n",
    "### Obtener listas de cosas a webscrapear\n",
    "\n",
    "1. Dependencias que no se logro 2015\n",
    "2. Dependencias que no teniamos en la lista\n",
    "3. Sentencias que se cortaron\n",
    "4. Las de 2014 hacia atras"
   ]
  },
  {
   "cell_type": "markdown",
   "metadata": {},
   "source": [
    "**1. No se saco 2015**"
   ]
  },
  {
   "cell_type": "code",
   "execution_count": 80,
   "metadata": {},
   "outputs": [],
   "source": [
    "# Keep only for guayas\n",
    "guayas = pd.merge(cods_penal, num_sec, how='left', left_on='ID_JUDICATURA', right_on='id_judicatura', validate='1:m', indicator=True)\n",
    "\n",
    "lista2015 = list(guayas.loc[(guayas['nyear']<=5)&(guayas['year']=='2016'), 'id_judicatura'])"
   ]
  },
  {
   "cell_type": "code",
   "execution_count": 95,
   "metadata": {},
   "outputs": [],
   "source": [
    "pd.DataFrame(lista2015, columns=['id_judicatura']).to_csv(proc/'restantes_2015.csv', index=False)"
   ]
  },
  {
   "cell_type": "markdown",
   "metadata": {},
   "source": [
    "**2. Dependencias no en la lista, pero penal de guayas**"
   ]
  },
  {
   "cell_type": "code",
   "execution_count": 96,
   "metadata": {},
   "outputs": [],
   "source": [
    "restantesgye = list(cods_penal.loc[cods_penal['descargadas']!='both', 'ID_JUDICATURA'])\n",
    "pd.DataFrame(restantesgye, columns=['id_judicatura']).to_csv(proc/'restantes_gye.csv', index=False)"
   ]
  },
  {
   "cell_type": "code",
   "execution_count": null,
   "metadata": {},
   "outputs": [],
   "source": []
  }
 ],
 "metadata": {
  "interpreter": {
   "hash": "6e3e299330edb043d27befe0b4dd74b7aca0533b06d3d7837bab63e555d79b9e"
  },
  "kernelspec": {
   "display_name": "Python 3.9.10 ('geoenv')",
   "language": "python",
   "name": "python3"
  },
  "language_info": {
   "codemirror_mode": {
    "name": "ipython",
    "version": 3
   },
   "file_extension": ".py",
   "mimetype": "text/x-python",
   "name": "python",
   "nbconvert_exporter": "python",
   "pygments_lexer": "ipython3",
   "version": "3.9.10"
  },
  "orig_nbformat": 4
 },
 "nbformat": 4,
 "nbformat_minor": 2
}
