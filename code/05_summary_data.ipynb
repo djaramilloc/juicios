{
 "cells": [
  {
   "cell_type": "markdown",
   "metadata": {},
   "source": [
    "## Summary of data\n",
    "\n",
    "This script allow to see the crimes from 2015-2020, and the judicaturas that had such cases"
   ]
  },
  {
   "cell_type": "code",
   "execution_count": 1,
   "metadata": {},
   "outputs": [],
   "source": [
    "import pandas as pd\n",
    "import numpy as np\n",
    "from pathlib import Path\n",
    "import re"
   ]
  },
  {
   "cell_type": "code",
   "execution_count": 2,
   "metadata": {},
   "outputs": [],
   "source": [
    "# Definir paths\n",
    "root = Path.cwd().parent\n",
    "raw = root/'data/raw'\n",
    "proc = root/'data/proc'"
   ]
  },
  {
   "cell_type": "markdown",
   "metadata": {},
   "source": [
    "***\n",
    "### Get list of judicaturas \n",
    "\n",
    "There are two sources for the judicaturas codes: File sent by Consejo, and scrapped data.\n",
    "\n",
    "First I will load the file from Consejo. It only includes the judicaturas that substanciate penal cases"
   ]
  },
  {
   "cell_type": "code",
   "execution_count": null,
   "metadata": {},
   "outputs": [],
   "source": [
    "cods_20 = pd.read_excel(raw/'satje/0645_Id_Judicaturas.xlsx', skiprows = 5, usecols='B:C', skipfooter=5)\n",
    "cods_20 = cods_20[cods_20['ID_JUDICATURA'].str.startswith('09')].copy()\n",
    "cods_20['penal'] = 'penal'\n",
    "cods_20.reset_index(drop=True, inplace=True)"
   ]
  },
  {
   "cell_type": "markdown",
   "metadata": {},
   "source": [
    "Get list of ready judicaturas"
   ]
  },
  {
   "cell_type": "code",
   "execution_count": null,
   "metadata": {},
   "outputs": [],
   "source": [
    "cods_15 = list((proc/'delitos_web/').glob(r'*.xls'))\n",
    "cods_15 = list(map(lambda x: x.name[8:13], cods_15))\n",
    "cods_15 = pd.DataFrame(cods_15, columns=['id_judicatura'])\n",
    "\n",
    "# Limit to only Guayaquil\n",
    "cods_15 = cods_15[cods_15['id_judicatura'].str.startswith('09')].reset_index(drop=True).copy()"
   ]
  },
  {
   "cell_type": "markdown",
   "metadata": {},
   "source": [
    "Merge codes to see if we get all the penal judicaturas"
   ]
  },
  {
   "cell_type": "code",
   "execution_count": null,
   "metadata": {},
   "outputs": [],
   "source": [
    "cods = pd.merge(cods_20,\n",
    "    cods_15,\n",
    "    how='outer',\n",
    "    left_on=['ID_JUDICATURA'],\n",
    "    right_on=['id_judicatura'],\n",
    "    validate='1:1',\n",
    "    indicator=True)"
   ]
  },
  {
   "cell_type": "code",
   "execution_count": null,
   "metadata": {},
   "outputs": [],
   "source": [
    "cods_penal = cods.loc[cods['penal']=='penal', ['ID_JUDICATURA', 'JUDICATURA', '_merge']]\n",
    "cods_penal.rename(columns={'_merge': 'descargadas'}, inplace=True)"
   ]
  },
  {
   "cell_type": "markdown",
   "metadata": {},
   "source": [
    "***\n",
    "### Get List of crimenes\n",
    "\n",
    "I manually set the penalties for all the cases found in the extracted data."
   ]
  },
  {
   "cell_type": "code",
   "execution_count": null,
   "metadata": {},
   "outputs": [],
   "source": [
    "# Load file\n",
    "causas = pd.read_excel(proc/'delitos_15_20.xlsx')\n",
    "\n",
    "# Keep only observations that are penal\n",
    "causas = causas.loc[causas['penal'].isna()]"
   ]
  },
  {
   "cell_type": "markdown",
   "metadata": {},
   "source": [
    "***\n",
    "### How many numbres have the secuencial\n",
    "\n",
    "Tengo que ver cuantos # tiene el secuancial (despues de año) en cada dependencia.\n",
    "\n",
    "Hacer un loop sobre todos los archivos. Coger las causas. Quedarnos con los numeros. Ver cuantos aparecen despues del anio."
   ]
  },
  {
   "cell_type": "code",
   "execution_count": null,
   "metadata": {},
   "outputs": [],
   "source": [
    "# List of files\n",
    "files15 = list((proc/'delitos_web/').glob('*.xls'))"
   ]
  },
  {
   "cell_type": "code",
   "execution_count": null,
   "metadata": {},
   "outputs": [],
   "source": [
    "def num_secuencial(df:pd.DataFrame):\n",
    "    \"\"\"\n",
    "    Gets the number of secuencial for each year in df\n",
    "    \"\"\"\n",
    "    # Delete casos not found\n",
    "    df = df.loc[(~df['id_proceso'].isna())&(df['causa']!='No existe este proceso')].copy()\n",
    "    df = df[['id_proceso']].copy()\n",
    "\n",
    "    # Clean secuencial\n",
    "    df['id_proceso'] = df['id_proceso'].str.replace('-', '')\n",
    "    df['id_judicatura'] = df['id_proceso'].apply(lambda x: x[0:5])\n",
    "    df['year'] = df['id_proceso'].apply(lambda x: x[5:9])\n",
    "    df['secuencial'] = df['id_proceso'].apply(lambda x: x.split(x[5:9])[1])\n",
    "    df['secuencial'] = df['secuencial'].str.replace('\\D', '', regex=True)\n",
    "\n",
    "    df['nsec'] = df['secuencial'].apply(lambda x: len(x))\n",
    "\n",
    "    # Collapse by year\n",
    "    df = df.groupby(by=['id_judicatura', 'year'], as_index=False).agg(min=('nsec', 'min'), max=('nsec', 'max'))\n",
    "\n",
    "    return df"
   ]
  },
  {
   "cell_type": "code",
   "execution_count": null,
   "metadata": {},
   "outputs": [],
   "source": [
    "num_sec = pd.DataFrame()\n",
    "for file in files15:\n",
    "    df = pd.read_excel(file, dtype={'id_proceso': str})\n",
    "    num_sec = pd.concat([num_sec, num_secuencial(df)], ignore_index=True)"
   ]
  },
  {
   "cell_type": "code",
   "execution_count": null,
   "metadata": {},
   "outputs": [],
   "source": [
    "# Contar cuantos anos tengo para cada judicatura\n",
    "nyear = num_sec.groupby(['id_judicatura'], as_index=False).agg(nyear=('year', 'count'))\n",
    "num_sec = num_sec.merge(nyear)"
   ]
  },
  {
   "cell_type": "markdown",
   "metadata": {},
   "source": [
    "***\n",
    "### Obtener listas de cosas a webscrapear\n",
    "\n",
    "1. Dependencias que no se logro 2015\n",
    "2. Dependencias que no teniamos en la lista\n",
    "3. Sentencias que se cortaron\n",
    "4. Las de 2014 hacia atras"
   ]
  },
  {
   "cell_type": "markdown",
   "metadata": {},
   "source": [
    "**1. No se saco 2015**"
   ]
  },
  {
   "cell_type": "code",
   "execution_count": null,
   "metadata": {},
   "outputs": [],
   "source": [
    "# Keep only for guayas\n",
    "guayas = pd.merge(cods_penal, num_sec, how='left', left_on='ID_JUDICATURA', right_on='id_judicatura', validate='1:m', indicator=True)\n",
    "\n",
    "lista2015 = list(guayas.loc[(guayas['nyear']<=5)&(guayas['year']=='2016'), 'id_judicatura'])"
   ]
  },
  {
   "cell_type": "code",
   "execution_count": null,
   "metadata": {},
   "outputs": [],
   "source": [
    "pd.DataFrame(lista2015, columns=['id_judicatura']).to_csv(proc/'restantes_2015.csv', index=False)"
   ]
  },
  {
   "cell_type": "markdown",
   "metadata": {},
   "source": [
    "**2. Dependencias no en la lista, pero penal de guayas**"
   ]
  },
  {
   "cell_type": "code",
   "execution_count": null,
   "metadata": {},
   "outputs": [],
   "source": [
    "restantesgye = list(cods_penal.loc[cods_penal['descargadas']!='both', 'ID_JUDICATURA'])\n",
    "pd.DataFrame(restantesgye, columns=['id_judicatura']).to_csv(proc/'restantes_gye.csv', index=False)"
   ]
  },
  {
   "cell_type": "markdown",
   "metadata": {},
   "source": [
    "**3. Sentencias que se cortaton**"
   ]
  },
  {
   "cell_type": "code",
   "execution_count": null,
   "metadata": {},
   "outputs": [],
   "source": [
    "files = list((proc/'delitos_web/old_delitos').glob('*.xls'))"
   ]
  },
  {
   "cell_type": "code",
   "execution_count": null,
   "metadata": {},
   "outputs": [],
   "source": [
    "celdas_incompletos = pd.DataFrame()\n",
    "for file in files:\n",
    "    df = pd.read_excel(file)\n",
    "    if 'sentencia' in df.columns:\n",
    "        df['size_sentencia'] = df.loc[~df['sentencia'].isna(), 'sentencia'].apply(lambda x: len(x))\n",
    "        df = df.loc[~df['size_sentencia'].isna(), ['size_sentencia', 'id_proceso']].copy()\n",
    "\n",
    "        celdas_incompletos = pd.concat([celdas_incompletos, df], ignore_index=True)\n",
    "\n"
   ]
  },
  {
   "cell_type": "code",
   "execution_count": null,
   "metadata": {},
   "outputs": [],
   "source": [
    "# Find those that are limited\n",
    "(celdas_incompletos\n",
    " .loc[(celdas_incompletos['size_sentencia']>=32767) & (celdas_incompletos['id_proceso'].str.startswith('09')),\n",
    "        ['id_proceso']]\n",
    " .to_csv(proc/'procesos_incompletos.csv', index=False))\n"
   ]
  },
  {
   "cell_type": "markdown",
   "metadata": {},
   "source": [
    "**4. Procesos 2014 para atras**"
   ]
  },
  {
   "cell_type": "code",
   "execution_count": 3,
   "metadata": {},
   "outputs": [],
   "source": [
    "# Get list of infracciones para ver cuales son penales\n",
    "files = list((proc/'resumenes/by_judicatura').glob('*.csv'))"
   ]
  },
  {
   "cell_type": "code",
   "execution_count": 4,
   "metadata": {},
   "outputs": [],
   "source": [
    "def find_nth_overlapping(haystack, needle, n):\n",
    "    matches = list(re.finditer(needle, haystack))\n",
    "\n",
    "    if len(matches) < n:\n",
    "        return -1\n",
    "    return matches[n-1].start()"
   ]
  },
  {
   "cell_type": "code",
   "execution_count": 5,
   "metadata": {},
   "outputs": [],
   "source": [
    "def no_digit_start(txt:str):\n",
    "    \"\"\"\n",
    "    Return text after first no giit element in ```txt```\n",
    "    \"\"\"\n",
    "\n",
    "    match = re.search('\\D', txt)\n",
    "    if match:\n",
    "        return txt[match.start():]\n",
    "\n",
    "    else:\n",
    "        return \"\""
   ]
  },
  {
   "cell_type": "code",
   "execution_count": 6,
   "metadata": {},
   "outputs": [],
   "source": [
    "def acciones(txt:str):\n",
    "\n",
    "    txt = txt.lstrip('-')\n",
    "\n",
    "    match = re.search('\\D', txt)\n",
    "\n",
    "    if match:\n",
    "        fnodigit = txt[match.start()]\n",
    "\n",
    "        # Si el primero es espacio en blanco\n",
    "        if fnodigit == \" \":\n",
    "            return {'sec': txt[:match.start()] , 'accion': txt[match.start()+1:]}\n",
    "\n",
    "        else:\n",
    "            txt2 = txt[match.start()+1:]\n",
    "            match2 = re.search('\\D', txt2)\n",
    "\n",
    "            if match2:\n",
    "                snodigit = txt2[match2.start()]\n",
    "\n",
    "                if snodigit == ' ':\n",
    "                    return {'sec':txt[:match.start()+2].rstrip(' '), 'accion': txt2[match2.start()+1:]}\n",
    "\n",
    "                else:\n",
    "                    return {'sec':txt[:match.start()+1].rstrip(' '), 'accion': txt2[match2.start():]}\n",
    "\n",
    "            else:\n",
    "                return {'sec': txt, 'accion': 'No hay caso'}\n",
    "    else:\n",
    "        return {'sec': txt, 'accion': 'No hay caso'}"
   ]
  },
  {
   "cell_type": "code",
   "execution_count": 87,
   "metadata": {},
   "outputs": [],
   "source": [
    "files_10_14 = pd.DataFrame()\n",
    "\n",
    "for file in files:\n",
    "\n",
    "    # Check if file has data\n",
    "    df = pd.read_csv(file, dtype={'causa': str})\n",
    "    df = df.loc[df['descripcion']!='No se encuentran resultados.'].copy()\n",
    "    df = df.loc[~df['descripcion'].isna()].copy()\n",
    "\n",
    "    # Extract year\n",
    "    df['year'] = df['descripcion'].apply(lambda t: t[t.find('-')+1:find_nth_overlapping(t, '-', 2)])\n",
    "\n",
    "    # Extract fecha\n",
    "    df['fecha'] = df['descripcion'].apply(lambda t: t[t.find('/')-2:find_nth_overlapping(t, '/', 2)+4+1])\n",
    "\n",
    "    # Id_judicatura\n",
    "    df['id_judicatura'] = df['descripcion'].apply(lambda t: t[find_nth_overlapping(t, '/', 2)+5:t.find('-')])\n",
    "\n",
    "    # Restante\n",
    "    df['restante'] = df['descripcion'].apply(lambda t: t[find_nth_overlapping(t, '-', 2):])\n",
    "    df['accion'] = df['restante'].apply(lambda t: acciones(t)['accion'].lstrip(' '))\n",
    "    df['id_sec'] = df['restante'].apply(lambda t: acciones(t)['sec'])\n",
    "\n",
    "    # Extract id_proceso + accion\n",
    "    df['proceso_long'] = df['descripcion'].apply(lambda t: t[find_nth_overlapping(t, '/', 2)+5:])\n",
    "    df['proceso_long'] = df['proceso_long'].str.replace('-', '')\n",
    "    df['proceso_long'] = df['proceso_long'].apply(lambda t: t[:15])\n",
    "    df['proceso_long'] = df['proceso_long'].str.rstrip(' ')\n",
    "\n",
    "    # Store results\n",
    "    files_10_14 = pd.concat([files_10_14, df], ignore_index=True)\n"
   ]
  },
  {
   "cell_type": "code",
   "execution_count": 88,
   "metadata": {},
   "outputs": [],
   "source": [
    "files_10_14.drop_duplicates(ignore_index=True, inplace=True)"
   ]
  },
  {
   "cell_type": "markdown",
   "metadata": {},
   "source": [
    "See if the acciones are criminal or not. This part I did manually"
   ]
  },
  {
   "cell_type": "code",
   "execution_count": 89,
   "metadata": {},
   "outputs": [],
   "source": [
    "# Load file with crimes\n",
    "crimenes_1014 = pd.read_excel(proc/'delitos_lists/delitos_2010_2014_gye.xlsx')\n",
    "crimenes_1014 = crimenes_1014[crimenes_1014['eliminar'].isna()].copy()\n",
    "crimenes_1014.drop(columns='eliminar', inplace=True)"
   ]
  },
  {
   "cell_type": "code",
   "execution_count": 90,
   "metadata": {},
   "outputs": [],
   "source": [
    "# Select acciones\n",
    "to_scrap = pd.merge(files_10_14,\n",
    "            crimenes_1014,\n",
    "            how = 'outer',\n",
    "            on = 'accion',\n",
    "            validate='m:1',\n",
    "            indicator=True)"
   ]
  },
  {
   "cell_type": "code",
   "execution_count": 91,
   "metadata": {},
   "outputs": [],
   "source": [
    "to_scrap = (to_scrap\n",
    "            .loc[to_scrap['_merge']=='both']\n",
    "            .drop(columns='_merge')\n",
    "            .reset_index(drop=True))"
   ]
  },
  {
   "cell_type": "code",
   "execution_count": 98,
   "metadata": {},
   "outputs": [],
   "source": [
    "# Save data\n",
    "to_scrap = (to_scrap[['id_judicatura', 'year', 'id_sec', 'accion', 'proceso_long']]\n",
    "            .sort_values(by=['id_judicatura', 'year', 'id_sec'], ignore_index=True))\n",
    "\n",
    "for judicatura in list(['09111', '09112']):\n",
    "\n",
    "    df = to_scrap.loc[to_scrap['id_judicatura'] == judicatura].copy()\n",
    "    df['estado'] = 0\n",
    "    df['id_matched'] = np.nan\n",
    "    df.to_excel(proc/f'scrap_lists/2010_2014/{judicatura}.xlsx', index=False)"
   ]
  },
  {
   "cell_type": "code",
   "execution_count": 95,
   "metadata": {},
   "outputs": [],
   "source": [
    "# create lista to keep track\n",
    "to_scrap[['id_judicatura']].drop_duplicates(ignore_index=True).to_excel(\"C:/Users/DanielJaramillo/Dropbox/Research/estado_2010_2014.xlsx\", index=False)"
   ]
  },
  {
   "cell_type": "markdown",
   "metadata": {},
   "source": [
    "***"
   ]
  },
  {
   "cell_type": "code",
   "execution_count": 52,
   "metadata": {},
   "outputs": [],
   "source": [
    "def completar(iddep:str):\n",
    "    df = pd.read_csv(proc/f'delitos_web/resumen_{iddep}.csv',\n",
    "            dtype={'id_proceso': str})\n",
    "\n",
    "    idproc = df.loc[df.shape[0]-1, 'id_proceso']\n",
    "    idproc = re.sub('\\D', '', idproc)\n",
    "\n",
    "    if idproc[-1] == '9':\n",
    "        decenas = int(idproc[-2]) + 1\n",
    "        new_proc = idproc[:-2] + str(decenas) + '0'\n",
    "\n",
    "    else:\n",
    "        ldigit = int(idproc[-1]) + 1\n",
    "        new_proc = idproc[:-1] + str(ldigit)\n",
    "\n",
    "    return pd.concat([df, pd.DataFrame({'id_proceso': [new_proc]})], ignore_index=True)"
   ]
  },
  {
   "cell_type": "code",
   "execution_count": 101,
   "metadata": {},
   "outputs": [],
   "source": [
    "iddep = '09286'"
   ]
  },
  {
   "cell_type": "code",
   "execution_count": 102,
   "metadata": {},
   "outputs": [
    {
     "data": {
      "text/html": [
       "<div>\n",
       "<style scoped>\n",
       "    .dataframe tbody tr th:only-of-type {\n",
       "        vertical-align: middle;\n",
       "    }\n",
       "\n",
       "    .dataframe tbody tr th {\n",
       "        vertical-align: top;\n",
       "    }\n",
       "\n",
       "    .dataframe thead th {\n",
       "        text-align: right;\n",
       "    }\n",
       "</style>\n",
       "<table border=\"1\" class=\"dataframe\">\n",
       "  <thead>\n",
       "    <tr style=\"text-align: right;\">\n",
       "      <th></th>\n",
       "      <th>causa</th>\n",
       "      <th>demandado</th>\n",
       "      <th>demandante</th>\n",
       "      <th>id_proceso</th>\n",
       "    </tr>\n",
       "  </thead>\n",
       "  <tbody>\n",
       "    <tr>\n",
       "      <th>0</th>\n",
       "      <td>394 CONTRAVENCIONES DE SEGUNDA CLASE, INC.1, N...</td>\n",
       "      <td>JUVENAL CRUZ MARTILLO DIAZ</td>\n",
       "      <td>PPNN</td>\n",
       "      <td>0928620150001</td>\n",
       "    </tr>\n",
       "    <tr>\n",
       "      <th>1</th>\n",
       "      <td>385 CONDUCCIÃÂN DE VEHÃÂCULO EN ESTADO DE ...</td>\n",
       "      <td>VIZCAINO QUINTO ADRIANA IVANOVA</td>\n",
       "      <td>PARTE DE TRANSITO CTE</td>\n",
       "      <td>0928620150001G</td>\n",
       "    </tr>\n",
       "    <tr>\n",
       "      <th>2</th>\n",
       "      <td>393 CONTRAVENCIONES DE PRIMERA CLASE, INC.1, N...</td>\n",
       "      <td>RODRIGUEZ LARAFERNANDO ENRIQUE RODRIGUEZ LARA</td>\n",
       "      <td>PPNN</td>\n",
       "      <td>0928620150002</td>\n",
       "    </tr>\n",
       "    <tr>\n",
       "      <th>3</th>\n",
       "      <td>379 LESIONES CAUSADAS POR ACCIDENTE DE TRÃÂN...</td>\n",
       "      <td>GARCIA SALVATIERRA KLEBERGARCIA SALVATIERRA KL...</td>\n",
       "      <td>TORRES VELIZ IVONNE ALEXANDRAAB. REYNALDO CEVA...</td>\n",
       "      <td>0928620150003</td>\n",
       "    </tr>\n",
       "    <tr>\n",
       "      <th>4</th>\n",
       "      <td>393 CONTRAVENCIONES DE PRIMERA CLASE, INC.1, N...</td>\n",
       "      <td>ZARAY NOEMI ASCENCIO ANASTACIO</td>\n",
       "      <td>TOLA ANTEPARA BYRON CRISTIAN</td>\n",
       "      <td>0928620150004</td>\n",
       "    </tr>\n",
       "    <tr>\n",
       "      <th>...</th>\n",
       "      <td>...</td>\n",
       "      <td>...</td>\n",
       "      <td>...</td>\n",
       "      <td>...</td>\n",
       "    </tr>\n",
       "    <tr>\n",
       "      <th>17874</th>\n",
       "      <td>ART. 230 # 4 COFJ EXCARCELACIÓN POR CUMPLIMIEN...</td>\n",
       "      <td>NaN</td>\n",
       "      <td>NaN</td>\n",
       "      <td>09286201702503</td>\n",
       "    </tr>\n",
       "    <tr>\n",
       "      <th>17875</th>\n",
       "      <td>396 CONTRAVENCIONES DE CUARTA CLASE, INC.1, NU...</td>\n",
       "      <td>CARMEN MAGALY CAAMAÑO CORNEJO</td>\n",
       "      <td>RUMIÑAHUI HERRERA YENNY MERCEDES</td>\n",
       "      <td>09286201702504</td>\n",
       "    </tr>\n",
       "    <tr>\n",
       "      <th>17876</th>\n",
       "      <td>ART. 230 # 10 COFJ-ART. 632 COIP- CONTROL DE C...</td>\n",
       "      <td>NaN</td>\n",
       "      <td>NaN</td>\n",
       "      <td>09286201702505</td>\n",
       "    </tr>\n",
       "    <tr>\n",
       "      <th>17877</th>\n",
       "      <td>ART. 230 # 10 COFJ-ART. 632 COIP- CONTROL DE C...</td>\n",
       "      <td>NaN</td>\n",
       "      <td>NaN</td>\n",
       "      <td>09286201702506</td>\n",
       "    </tr>\n",
       "    <tr>\n",
       "      <th>17878</th>\n",
       "      <td>NaN</td>\n",
       "      <td>NaN</td>\n",
       "      <td>NaN</td>\n",
       "      <td>09286201702507</td>\n",
       "    </tr>\n",
       "  </tbody>\n",
       "</table>\n",
       "<p>17879 rows × 4 columns</p>\n",
       "</div>"
      ],
      "text/plain": [
       "                                                   causa  \\\n",
       "0      394 CONTRAVENCIONES DE SEGUNDA CLASE, INC.1, N...   \n",
       "1      385 CONDUCCIÃÂN DE VEHÃÂCULO EN ESTADO DE ...   \n",
       "2      393 CONTRAVENCIONES DE PRIMERA CLASE, INC.1, N...   \n",
       "3      379 LESIONES CAUSADAS POR ACCIDENTE DE TRÃÂN...   \n",
       "4      393 CONTRAVENCIONES DE PRIMERA CLASE, INC.1, N...   \n",
       "...                                                  ...   \n",
       "17874  ART. 230 # 4 COFJ EXCARCELACIÓN POR CUMPLIMIEN...   \n",
       "17875  396 CONTRAVENCIONES DE CUARTA CLASE, INC.1, NU...   \n",
       "17876  ART. 230 # 10 COFJ-ART. 632 COIP- CONTROL DE C...   \n",
       "17877  ART. 230 # 10 COFJ-ART. 632 COIP- CONTROL DE C...   \n",
       "17878                                                NaN   \n",
       "\n",
       "                                               demandado  \\\n",
       "0                             JUVENAL CRUZ MARTILLO DIAZ   \n",
       "1                        VIZCAINO QUINTO ADRIANA IVANOVA   \n",
       "2          RODRIGUEZ LARAFERNANDO ENRIQUE RODRIGUEZ LARA   \n",
       "3      GARCIA SALVATIERRA KLEBERGARCIA SALVATIERRA KL...   \n",
       "4                         ZARAY NOEMI ASCENCIO ANASTACIO   \n",
       "...                                                  ...   \n",
       "17874                                                NaN   \n",
       "17875                      CARMEN MAGALY CAAMAÑO CORNEJO   \n",
       "17876                                                NaN   \n",
       "17877                                                NaN   \n",
       "17878                                                NaN   \n",
       "\n",
       "                                              demandante       id_proceso  \n",
       "0                                                   PPNN    0928620150001  \n",
       "1                                  PARTE DE TRANSITO CTE   0928620150001G  \n",
       "2                                                   PPNN    0928620150002  \n",
       "3      TORRES VELIZ IVONNE ALEXANDRAAB. REYNALDO CEVA...    0928620150003  \n",
       "4                           TOLA ANTEPARA BYRON CRISTIAN    0928620150004  \n",
       "...                                                  ...              ...  \n",
       "17874                                                NaN  09286201702503   \n",
       "17875                   RUMIÑAHUI HERRERA YENNY MERCEDES   09286201702504  \n",
       "17876                                                NaN  09286201702505   \n",
       "17877                                                NaN  09286201702506   \n",
       "17878                                                NaN   09286201702507  \n",
       "\n",
       "[17879 rows x 4 columns]"
      ]
     },
     "execution_count": 102,
     "metadata": {},
     "output_type": "execute_result"
    }
   ],
   "source": [
    "completar(iddep)"
   ]
  },
  {
   "cell_type": "code",
   "execution_count": 103,
   "metadata": {},
   "outputs": [],
   "source": [
    "completar(iddep).to_csv(proc/f'delitos_web/resumen_{iddep}.csv', index=False)"
   ]
  },
  {
   "cell_type": "code",
   "execution_count": null,
   "metadata": {},
   "outputs": [],
   "source": [
    "df_start = pd.read_csv(proc/f'delitos_web/resumen_{iddep}.csv', dtype={'id_proceso': str})"
   ]
  },
  {
   "cell_type": "code",
   "execution_count": null,
   "metadata": {},
   "outputs": [],
   "source": [
    "df.to_csv(proc/f'delitos_web/resumen_{iddep}.csv', index=False)"
   ]
  },
  {
   "cell_type": "code",
   "execution_count": 142,
   "metadata": {},
   "outputs": [],
   "source": [
    "def complete_procesos(iddep):\n",
    "    df = pd.read_excel(proc/f'scrap_lists/2010_2014/{iddep}.xlsx',\n",
    "        dtype={'id_judicatura': str, 'id_sec': str, 'year': str, 'id_matched':str, 'proceso_long':str})\n",
    "    idx_change = df[df['estado']==0].index[0]\n",
    "    df.loc[idx_change, 'estado'] = 1\n",
    "\n",
    "    return df"
   ]
  },
  {
   "cell_type": "code",
   "execution_count": 143,
   "metadata": {},
   "outputs": [],
   "source": [
    "iddep = '09122'"
   ]
  },
  {
   "cell_type": "code",
   "execution_count": 146,
   "metadata": {},
   "outputs": [],
   "source": [
    "complete_procesos(iddep)"
   ]
  },
  {
   "cell_type": "code",
   "execution_count": 148,
   "metadata": {},
   "outputs": [],
   "source": [
    "complete_procesos(iddep).to_excel(proc/f'scrap_lists/2010_2014/{iddep}.xlsx', index=False)"
   ]
  },
  {
   "cell_type": "markdown",
   "metadata": {},
   "source": [
    "***\n"
   ]
  },
  {
   "cell_type": "markdown",
   "metadata": {},
   "source": [
    "**To Copy files**"
   ]
  },
  {
   "cell_type": "code",
   "execution_count": 140,
   "metadata": {},
   "outputs": [],
   "source": [
    "for folder in Path('C:/Users/DanielJaramillo/Desktop/files').iterdir():\n",
    "\n",
    "    id_proceso = folder.stem\n",
    "\n",
    "    try:\n",
    "        folder.rename(proc/f'delitos_web/files/{id_proceso}')\n",
    "    except FileExistsError:\n",
    "        pass\n",
    "        "
   ]
  },
  {
   "cell_type": "markdown",
   "metadata": {},
   "source": [
    "**Delete empty folders**"
   ]
  },
  {
   "cell_type": "code",
   "execution_count": null,
   "metadata": {},
   "outputs": [],
   "source": [
    "for folder in (proc/'delitos_web/files').iterdir():\n",
    "    try: \n",
    "        folder.rmdir()\n",
    "    except:\n",
    "        pass"
   ]
  }
 ],
 "metadata": {
  "interpreter": {
   "hash": "6e3e299330edb043d27befe0b4dd74b7aca0533b06d3d7837bab63e555d79b9e"
  },
  "kernelspec": {
   "display_name": "Python 3.9.10 ('geoenv')",
   "language": "python",
   "name": "python3"
  },
  "language_info": {
   "codemirror_mode": {
    "name": "ipython",
    "version": 3
   },
   "file_extension": ".py",
   "mimetype": "text/x-python",
   "name": "python",
   "nbconvert_exporter": "python",
   "pygments_lexer": "ipython3",
   "version": "3.9.10"
  },
  "orig_nbformat": 4
 },
 "nbformat": 4,
 "nbformat_minor": 2
}
