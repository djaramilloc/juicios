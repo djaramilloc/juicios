{
 "cells": [
  {
   "cell_type": "markdown",
   "metadata": {},
   "source": [
    "## Split folders\n",
    "\n",
    "I want to split the downloaded files in different subdirectories. Currently all the files are in ```~/proc/delitos_web/files/{id_proceso}```. I want to split them based on whether they have a sentencia file inside or not.\n",
    "\n",
    "I will create two subdirectories ```~/proc/delitos_web/sentencias```\n",
    "and ```~/proc/delitos_web/no_sentencias```. I will move all the files to these folders\n"
   ]
  },
  {
   "cell_type": "code",
   "execution_count": 16,
   "metadata": {},
   "outputs": [],
   "source": [
    "import regex\n",
    "from pathlib import Path\n",
    "from pyprojroot import here"
   ]
  },
  {
   "cell_type": "code",
   "execution_count": 3,
   "metadata": {},
   "outputs": [],
   "source": [
    "# Definir paths\n",
    "root = here()\n",
    "proc = root/'data/proc'"
   ]
  },
  {
   "cell_type": "markdown",
   "metadata": {},
   "source": [
    "**Delete empty folders**"
   ]
  },
  {
   "cell_type": "code",
   "execution_count": 13,
   "metadata": {},
   "outputs": [],
   "source": [
    "for folder in list((proc/'delitos_web/files').glob('*')):\n",
    "\n",
    "    try: \n",
    "        folder.rmdir()\n",
    "    \n",
    "    except OSError:\n",
    "        pass"
   ]
  },
  {
   "cell_type": "markdown",
   "metadata": {},
   "source": [
    "**Create new directories**"
   ]
  },
  {
   "cell_type": "code",
   "execution_count": 14,
   "metadata": {},
   "outputs": [
    {
     "name": "stdout",
     "output_type": "stream",
     "text": [
      "The directory already exists\n"
     ]
    }
   ],
   "source": [
    "# For sentencias\n",
    "try: \n",
    "    Path(proc/'delitos_web/con_sentencia').mkdir()\n",
    "except FileExistsError:\n",
    "    print('The directory already exists')"
   ]
  },
  {
   "cell_type": "code",
   "execution_count": 15,
   "metadata": {},
   "outputs": [
    {
     "name": "stdout",
     "output_type": "stream",
     "text": [
      "The directory already exists\n"
     ]
    }
   ],
   "source": [
    "# For sentencias\n",
    "try: \n",
    "    Path(proc/'delitos_web/sin_sentencia').mkdir()\n",
    "except FileExistsError:\n",
    "    print('The directory already exists')"
   ]
  },
  {
   "cell_type": "markdown",
   "metadata": {},
   "source": [
    "**Move directories**\n",
    "\n",
    "Check directories that need to move:"
   ]
  },
  {
   "cell_type": "code",
   "execution_count": 17,
   "metadata": {},
   "outputs": [],
   "source": [
    "to_sentencia = []\n",
    "to_sin_sentencia = []\n",
    "\n",
    "# Loop over all subdirectories\n",
    "for carpeta in  list((proc/'delitos_web/files').glob('*/')):\n",
    "\n",
    "    # Check if it is a directory\n",
    "    if carpeta.is_dir():\n",
    "\n",
    "        # Get files' names inside folder\n",
    "        archivos = [nombre.name for nombre in list(carpeta.glob('*.txt'))]\n",
    "\n",
    "        for archivo in archivos:\n",
    "\n",
    "            # Cehck if sentencia is in name\n",
    "            match = regex.search('SENTENCIA', archivo, flags=regex.IGNORECASE)\n",
    "            \n",
    "            # If there is sentencia move to con_sentencia\n",
    "            if match:\n",
    "                to_sentencia.append(carpeta)\n",
    "                break\n",
    "            \n",
    "            # If there is no sentencia to sin_sentencia\n",
    "            else:\n",
    "                to_sin_sentencia.append(carpeta)"
   ]
  },
  {
   "cell_type": "markdown",
   "metadata": {},
   "source": [
    "**Move dependding on the folder**"
   ]
  },
  {
   "cell_type": "code",
   "execution_count": 18,
   "metadata": {},
   "outputs": [],
   "source": [
    "for carpeta in to_sentencia:\n",
    "\n",
    "    try:\n",
    "        carpeta.rename(proc/f'delitos_web/con_sentencia/{carpeta.name}')\n",
    "\n",
    "    # If file already exists do not move it\n",
    "    except FileExistsError:\n",
    "        pass"
   ]
  },
  {
   "cell_type": "code",
   "execution_count": 22,
   "metadata": {},
   "outputs": [],
   "source": [
    "for carpeta in to_sin_sentencia:\n",
    "\n",
    "    try:\n",
    "        carpeta.rename(proc/f'delitos_web/sin_sentencia/{carpeta.name}')\n",
    "\n",
    "    # If file already exists do not move it\n",
    "    except (FileExistsError, FileNotFoundError):\n",
    "        pass"
   ]
  },
  {
   "cell_type": "code",
   "execution_count": null,
   "metadata": {},
   "outputs": [],
   "source": []
  }
 ],
 "metadata": {
  "kernelspec": {
   "display_name": "Python 3.9.10 ('geoenv')",
   "language": "python",
   "name": "python3"
  },
  "language_info": {
   "codemirror_mode": {
    "name": "ipython",
    "version": 3
   },
   "file_extension": ".py",
   "mimetype": "text/x-python",
   "name": "python",
   "nbconvert_exporter": "python",
   "pygments_lexer": "ipython3",
   "version": "3.9.10"
  },
  "orig_nbformat": 4,
  "vscode": {
   "interpreter": {
    "hash": "6e3e299330edb043d27befe0b4dd74b7aca0533b06d3d7837bab63e555d79b9e"
   }
  }
 },
 "nbformat": 4,
 "nbformat_minor": 2
}
