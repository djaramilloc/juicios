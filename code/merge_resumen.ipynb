{
 "cells": [
  {
   "cell_type": "code",
   "execution_count": 11,
   "metadata": {},
   "outputs": [],
   "source": [
    "import numpy as np\n",
    "import pandas as pd\n",
    "from pathlib import Path\n",
    "from pyprojroot import here"
   ]
  },
  {
   "cell_type": "code",
   "execution_count": 4,
   "metadata": {},
   "outputs": [],
   "source": [
    "# Definir paths\n",
    "root = here()\n",
    "raw = root/'data/raw'\n",
    "proc = root/'data/proc'"
   ]
  },
  {
   "cell_type": "markdown",
   "metadata": {},
   "source": [
    "***\n",
    "### Merge all resumenes"
   ]
  },
  {
   "cell_type": "code",
   "execution_count": 6,
   "metadata": {},
   "outputs": [],
   "source": [
    "resumen = pd.DataFrame()\n",
    "\n",
    "for i in range(1, 6+1):\n",
    "    df = pd.read_csv(proc/f\"resumenes/resumen_10_14_{i}.csv\")\n",
    "\n",
    "    resumen = pd.concat([resumen, df], ignore_index=True)\n"
   ]
  },
  {
   "cell_type": "code",
   "execution_count": 13,
   "metadata": {},
   "outputs": [],
   "source": [
    "resumen.to_csv(proc/\"resumenes/resumen_10_14.csv\", index=False)"
   ]
  },
  {
   "cell_type": "code",
   "execution_count": 22,
   "metadata": {},
   "outputs": [],
   "source": [
    "faltantes = resumen.loc[resumen['estado'] == 'por completar'].reset_index(drop=True)\n",
    "\n",
    "\n",
    "res = pd.DataFrame()\n",
    "for ind, df in enumerate(np.array_split(faltantes, 6)):\n",
    "    df.to_csv(proc/f\"resumenes/resumen_10_14_{ind+1}.csv\", index=False)"
   ]
  },
  {
   "cell_type": "code",
   "execution_count": null,
   "metadata": {},
   "outputs": [],
   "source": []
  }
 ],
 "metadata": {
  "interpreter": {
   "hash": "111f45d5cd44a46b63817eb6af1a1f88232e066f11afb46471b9fd257e3e891c"
  },
  "kernelspec": {
   "display_name": "Python 3.10.4 ('wscrap')",
   "language": "python",
   "name": "python3"
  },
  "language_info": {
   "codemirror_mode": {
    "name": "ipython",
    "version": 3
   },
   "file_extension": ".py",
   "mimetype": "text/x-python",
   "name": "python",
   "nbconvert_exporter": "python",
   "pygments_lexer": "ipython3",
   "version": "3.10.4"
  },
  "orig_nbformat": 4
 },
 "nbformat": 4,
 "nbformat_minor": 2
}
