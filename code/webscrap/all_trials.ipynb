{
 "cells": [
  {
   "cell_type": "markdown",
   "metadata": {},
   "source": [
    "## Web Scrap all trials\n",
    "**Author:** Daniel Jaramillo"
   ]
  },
  {
   "cell_type": "code",
   "execution_count": 1,
   "metadata": {},
   "outputs": [],
   "source": [
    "import pandas as pd\n",
    "import re\n",
    "from pathlib import Path\n",
    "\n",
    "from selenium import webdriver\n",
    "from selenium.common.exceptions import ElementNotInteractableException, StaleElementReferenceException\n",
    "\n",
    "import warnings\n",
    "warnings.filterwarnings(\"ignore\", category=DeprecationWarning) \n",
    "from scrap_juicios import scrap_juicios\n",
    "\n",
    "from fake_useragent import UserAgent"
   ]
  },
  {
   "cell_type": "code",
   "execution_count": 2,
   "metadata": {},
   "outputs": [],
   "source": [
    "# Define Paths\n",
    "db = Path.cwd().parents[1]"
   ]
  },
  {
   "cell_type": "markdown",
   "metadata": {},
   "source": [
    "***\n",
    "### Define functions"
   ]
  },
  {
   "cell_type": "markdown",
   "metadata": {},
   "source": [
    "First function to obtain the data of the webscrap for a single query"
   ]
  },
  {
   "cell_type": "code",
   "execution_count": 3,
   "metadata": {},
   "outputs": [],
   "source": [
    "def juicios(driver, dep_judicial, year, n_attempt):\n",
    "\n",
    "    # Create id_proceso\n",
    "    id_proceso = (5-len(str(n_attempt)))*'0' + str(n_attempt)\n",
    "\n",
    "    # Call function to webscrap\n",
    "    result_list = scrap_juicios(driver, dep_judicial, year, id_proceso, delay=2)\n",
    "\n",
    "    # Convert results to pandas\n",
    "    result_df = pd.DataFrame()\n",
    "    for instancia in result_list:\n",
    "        result_df = pd.concat([result_df, pd.DataFrame(instancia, index=[0])], ignore_index=True)\n",
    "\n",
    "    return result_df"
   ]
  },
  {
   "cell_type": "markdown",
   "metadata": {},
   "source": [
    "A Function to call the driver, and collect all the information"
   ]
  },
  {
   "cell_type": "code",
   "execution_count": 4,
   "metadata": {},
   "outputs": [],
   "source": [
    "def obtener_datos(dflistos, iddep):\n",
    "\n",
    "    # 1 - Figure out last id of proceso: If it is the first iteration, start from 2014, and 1\n",
    "    if dflistos.shape[0] == 0:\n",
    "        yr_last = 2014\n",
    "        num_last = 1\n",
    "\n",
    "    else:\n",
    "        last_proceso = dflistos['id_proceso'][dflistos.shape[0]-1] \n",
    "        yr_last = int(last_proceso[5:9])\n",
    "        num_last = int(re.sub('\\D', '', last_proceso[9:])) + 1\n",
    "\n",
    "    # 2 - Run Webscraper\n",
    "    # Define options for browser\n",
    "    options = webdriver.FirefoxOptions()\n",
    "    #options.headless = True # do not show browser window\n",
    "    options.page_load_strategy = 'none' # Dont wait page to be loaded\n",
    "    options.set_preference(\"general.useragent.override\", UserAgent().random)\n",
    "\n",
    "    # Start Driver\n",
    "    gecko_path = Path.home()/'Documents/geckodriver.exe'\n",
    "    driver = webdriver.Firefox(executable_path=gecko_path, options=options)\n",
    "    url = 'http://consultas.funcionjudicial.gob.ec/informacionjudicial/public/informacion.jsf'\n",
    "    driver.get(url)\n",
    "\n",
    "    # Define base for results\n",
    "    results = pd.DataFrame()\n",
    "\n",
    "    # Loop over years\n",
    "    for year in range(yr_last, 2021):\n",
    "\n",
    "        n_start = 1 if year > yr_last else num_last\n",
    "\n",
    "        # Loop over possible trials\n",
    "        nfallidos = 0\n",
    "        for n_attempt in range(n_start, 99999+1):\n",
    "            try:\n",
    "                # Scrap the data\n",
    "                results_df = juicios(driver, iddep, str(year), n_attempt)\n",
    "                \n",
    "                # Check if id_proceso existe\n",
    "                if 'No existe este proceso' in results_df.causa[0]:\n",
    "                    nfallidos +=1\n",
    "\n",
    "                    if nfallidos >=5: \n",
    "                        break\n",
    "\n",
    "                else:\n",
    "                    results = pd.concat([results, results_df], ignore_index=True)\n",
    "\n",
    "            except (TypeError, ElementNotInteractableException, StaleElementReferenceException):\n",
    "                # If we cannot get the data, return the result up to that point\n",
    "                driver.close()\n",
    "                print('El proceso se interrumpio, seguir corriendo')\n",
    "                return {'estado': False, 'df': results}\n",
    "                \n",
    "    # If all works good\n",
    "    driver.close()\n",
    "    return {'estado': True, 'df': results}"
   ]
  },
  {
   "cell_type": "markdown",
   "metadata": {},
   "source": [
    "***\n",
    "### Create a loop until it finishes the collection of data"
   ]
  },
  {
   "cell_type": "code",
   "execution_count": 5,
   "metadata": {},
   "outputs": [],
   "source": [
    "# Load dependencias codes\n",
    "db_depen = pd.read_csv(db/'data/raw/codigos_dependencias_satje.csv', header=None, names=['id_dependencia'])\n",
    "\n",
    "# El Codigo de dependencia tiene 5 digitos. Lo convierto a string y anado un cero a los que tienen 4\n",
    "db_depen['id_dependencia'] = db_depen['id_dependencia'].apply(lambda x: \"0\" + str(x) if len(str(x))==4 else str(x))\n",
    "db_depen = db_depen.sort_values(by='id_dependencia').reset_index(drop=True)\n",
    "\n",
    "guayas = list(db_depen.loc[db_depen['id_dependencia'].apply(lambda x: x.startswith('09')), 'id_dependencia'])"
   ]
  },
  {
   "cell_type": "code",
   "execution_count": 6,
   "metadata": {},
   "outputs": [
    {
     "name": "stdout",
     "output_type": "stream",
     "text": [
      "El proceso se interrumpio, seguir corriendo\n",
      "El proceso se interrumpio, seguir corriendo\n",
      "El proceso se interrumpio, seguir corriendo\n",
      "El proceso se interrumpio, seguir corriendo\n",
      "El proceso se interrumpio, seguir corriendo\n",
      "El proceso se interrumpio, seguir corriendo\n",
      "El proceso se interrumpio, seguir corriendo\n",
      "El proceso se interrumpio, seguir corriendo\n",
      "El proceso se interrumpio, seguir corriendo\n",
      "El proceso se interrumpio, seguir corriendo\n",
      "El proceso se interrumpio, seguir corriendo\n",
      "El proceso se interrumpio, seguir corriendo\n",
      "El proceso se interrumpio, seguir corriendo\n",
      "El proceso se interrumpio, seguir corriendo\n"
     ]
    },
    {
     "ename": "AttributeError",
     "evalue": "'NoneType' object has no attribute 'find_all'",
     "output_type": "error",
     "traceback": [
      "\u001b[1;31m---------------------------------------------------------------------------\u001b[0m",
      "\u001b[1;31mAttributeError\u001b[0m                            Traceback (most recent call last)",
      "\u001b[1;32mc:\\Users\\DanielJaramillo\\Documents\\3Research\\juicios\\code\\webscrap\\all_trials.ipynb Cell 11'\u001b[0m in \u001b[0;36m<cell line: 1>\u001b[1;34m()\u001b[0m\n\u001b[0;32m     <a href='vscode-notebook-cell:/c%3A/Users/DanielJaramillo/Documents/3Research/juicios/code/webscrap/all_trials.ipynb#ch0000010?line=12'>13</a>\u001b[0m \u001b[39m# Loop while false\u001b[39;00m\n\u001b[0;32m     <a href='vscode-notebook-cell:/c%3A/Users/DanielJaramillo/Documents/3Research/juicios/code/webscrap/all_trials.ipynb#ch0000010?line=13'>14</a>\u001b[0m \u001b[39mwhile\u001b[39;00m res[\u001b[39m'\u001b[39m\u001b[39mestado\u001b[39m\u001b[39m'\u001b[39m] \u001b[39m==\u001b[39m \u001b[39mFalse\u001b[39;00m:\n\u001b[1;32m---> <a href='vscode-notebook-cell:/c%3A/Users/DanielJaramillo/Documents/3Research/juicios/code/webscrap/all_trials.ipynb#ch0000010?line=14'>15</a>\u001b[0m     res \u001b[39m=\u001b[39m obtener_datos(df_procesos, depnumber)\n\u001b[0;32m     <a href='vscode-notebook-cell:/c%3A/Users/DanielJaramillo/Documents/3Research/juicios/code/webscrap/all_trials.ipynb#ch0000010?line=15'>16</a>\u001b[0m     df_procesos \u001b[39m=\u001b[39m pd\u001b[39m.\u001b[39mconcat([df_procesos, res[\u001b[39m'\u001b[39m\u001b[39mdf\u001b[39m\u001b[39m'\u001b[39m]], ignore_index\u001b[39m=\u001b[39m\u001b[39mTrue\u001b[39;00m)\u001b[39m.\u001b[39mcopy()\n\u001b[0;32m     <a href='vscode-notebook-cell:/c%3A/Users/DanielJaramillo/Documents/3Research/juicios/code/webscrap/all_trials.ipynb#ch0000010?line=16'>17</a>\u001b[0m     df_procesos\u001b[39m.\u001b[39mto_excel(db\u001b[39m/\u001b[39m\u001b[39mf\u001b[39m\u001b[39m'\u001b[39m\u001b[39mdata/raw/resumen_\u001b[39m\u001b[39m{\u001b[39;00mdepnumber\u001b[39m}\u001b[39;00m\u001b[39m.xls\u001b[39m\u001b[39m'\u001b[39m, index\u001b[39m=\u001b[39m\u001b[39mFalse\u001b[39;00m)\n",
      "\u001b[1;32mc:\\Users\\DanielJaramillo\\Documents\\3Research\\juicios\\code\\webscrap\\all_trials.ipynb Cell 8'\u001b[0m in \u001b[0;36mobtener_datos\u001b[1;34m(dflistos, iddep)\u001b[0m\n\u001b[0;32m     <a href='vscode-notebook-cell:/c%3A/Users/DanielJaramillo/Documents/3Research/juicios/code/webscrap/all_trials.ipynb#ch0000007?line=35'>36</a>\u001b[0m \u001b[39mfor\u001b[39;00m n_attempt \u001b[39min\u001b[39;00m \u001b[39mrange\u001b[39m(n_start, \u001b[39m99999\u001b[39m\u001b[39m+\u001b[39m\u001b[39m1\u001b[39m):\n\u001b[0;32m     <a href='vscode-notebook-cell:/c%3A/Users/DanielJaramillo/Documents/3Research/juicios/code/webscrap/all_trials.ipynb#ch0000007?line=36'>37</a>\u001b[0m     \u001b[39mtry\u001b[39;00m:\n\u001b[0;32m     <a href='vscode-notebook-cell:/c%3A/Users/DanielJaramillo/Documents/3Research/juicios/code/webscrap/all_trials.ipynb#ch0000007?line=37'>38</a>\u001b[0m         \u001b[39m# Scrap the data\u001b[39;00m\n\u001b[1;32m---> <a href='vscode-notebook-cell:/c%3A/Users/DanielJaramillo/Documents/3Research/juicios/code/webscrap/all_trials.ipynb#ch0000007?line=38'>39</a>\u001b[0m         results_df \u001b[39m=\u001b[39m juicios(driver, iddep, \u001b[39mstr\u001b[39;49m(year), n_attempt)\n\u001b[0;32m     <a href='vscode-notebook-cell:/c%3A/Users/DanielJaramillo/Documents/3Research/juicios/code/webscrap/all_trials.ipynb#ch0000007?line=40'>41</a>\u001b[0m         \u001b[39m# Check if id_proceso existe\u001b[39;00m\n\u001b[0;32m     <a href='vscode-notebook-cell:/c%3A/Users/DanielJaramillo/Documents/3Research/juicios/code/webscrap/all_trials.ipynb#ch0000007?line=41'>42</a>\u001b[0m         \u001b[39mif\u001b[39;00m \u001b[39m'\u001b[39m\u001b[39mNo existe este proceso\u001b[39m\u001b[39m'\u001b[39m \u001b[39min\u001b[39;00m results_df\u001b[39m.\u001b[39mcausa[\u001b[39m0\u001b[39m]:\n",
      "\u001b[1;32mc:\\Users\\DanielJaramillo\\Documents\\3Research\\juicios\\code\\webscrap\\all_trials.ipynb Cell 6'\u001b[0m in \u001b[0;36mjuicios\u001b[1;34m(driver, dep_judicial, year, n_attempt)\u001b[0m\n\u001b[0;32m      <a href='vscode-notebook-cell:/c%3A/Users/DanielJaramillo/Documents/3Research/juicios/code/webscrap/all_trials.ipynb#ch0000005?line=3'>4</a>\u001b[0m id_proceso \u001b[39m=\u001b[39m (\u001b[39m5\u001b[39m\u001b[39m-\u001b[39m\u001b[39mlen\u001b[39m(\u001b[39mstr\u001b[39m(n_attempt)))\u001b[39m*\u001b[39m\u001b[39m'\u001b[39m\u001b[39m0\u001b[39m\u001b[39m'\u001b[39m \u001b[39m+\u001b[39m \u001b[39mstr\u001b[39m(n_attempt)\n\u001b[0;32m      <a href='vscode-notebook-cell:/c%3A/Users/DanielJaramillo/Documents/3Research/juicios/code/webscrap/all_trials.ipynb#ch0000005?line=5'>6</a>\u001b[0m \u001b[39m# Call function to webscrap\u001b[39;00m\n\u001b[1;32m----> <a href='vscode-notebook-cell:/c%3A/Users/DanielJaramillo/Documents/3Research/juicios/code/webscrap/all_trials.ipynb#ch0000005?line=6'>7</a>\u001b[0m result_list \u001b[39m=\u001b[39m scrap_juicios(driver, dep_judicial, year, id_proceso, delay\u001b[39m=\u001b[39;49m\u001b[39m2\u001b[39;49m)\n\u001b[0;32m      <a href='vscode-notebook-cell:/c%3A/Users/DanielJaramillo/Documents/3Research/juicios/code/webscrap/all_trials.ipynb#ch0000005?line=8'>9</a>\u001b[0m \u001b[39m# Convert results to pandas\u001b[39;00m\n\u001b[0;32m     <a href='vscode-notebook-cell:/c%3A/Users/DanielJaramillo/Documents/3Research/juicios/code/webscrap/all_trials.ipynb#ch0000005?line=9'>10</a>\u001b[0m result_df \u001b[39m=\u001b[39m pd\u001b[39m.\u001b[39mDataFrame()\n",
      "File \u001b[1;32mc:\\Users\\DanielJaramillo\\Documents\\3Research\\juicios\\code\\webscrap\\scrap_juicios.py:68\u001b[0m, in \u001b[0;36mscrap_juicios\u001b[1;34m(driver, dependencia, year, secuencial, delay, waits)\u001b[0m\n\u001b[0;32m     <a href='file:///c%3A/Users/DanielJaramillo/Documents/3Research/juicios/code/webscrap/scrap_juicios.py?line=64'>65</a>\u001b[0m page \u001b[39m=\u001b[39m BeautifulSoup(driver\u001b[39m.\u001b[39mpage_source, \u001b[39m'\u001b[39m\u001b[39mlxml\u001b[39m\u001b[39m'\u001b[39m)\n\u001b[0;32m     <a href='file:///c%3A/Users/DanielJaramillo/Documents/3Research/juicios/code/webscrap/scrap_juicios.py?line=65'>66</a>\u001b[0m instancias \u001b[39m=\u001b[39m page\u001b[39m.\u001b[39mfind(\u001b[39m'\u001b[39m\u001b[39mtbody\u001b[39m\u001b[39m'\u001b[39m, \u001b[39mid\u001b[39m\u001b[39m=\u001b[39m\u001b[39m'\u001b[39m\u001b[39mformJuicioDialogo:dataTableMovimiento_data\u001b[39m\u001b[39m'\u001b[39m)\n\u001b[1;32m---> <a href='file:///c%3A/Users/DanielJaramillo/Documents/3Research/juicios/code/webscrap/scrap_juicios.py?line=67'>68</a>\u001b[0m \u001b[39mfor\u001b[39;00m tr \u001b[39min\u001b[39;00m instancias\u001b[39m.\u001b[39;49mfind_all(\u001b[39m'\u001b[39m\u001b[39mtr\u001b[39m\u001b[39m'\u001b[39m, class_\u001b[39m=\u001b[39m\u001b[39m'\u001b[39m\u001b[39mui-widget-content\u001b[39m\u001b[39m'\u001b[39m):\n\u001b[0;32m     <a href='file:///c%3A/Users/DanielJaramillo/Documents/3Research/juicios/code/webscrap/scrap_juicios.py?line=68'>69</a>\u001b[0m     \n\u001b[0;32m     <a href='file:///c%3A/Users/DanielJaramillo/Documents/3Research/juicios/code/webscrap/scrap_juicios.py?line=69'>70</a>\u001b[0m     \u001b[39m# Open instance\u001b[39;00m\n\u001b[0;32m     <a href='file:///c%3A/Users/DanielJaramillo/Documents/3Research/juicios/code/webscrap/scrap_juicios.py?line=70'>71</a>\u001b[0m     ingresar(driver\u001b[39m.\u001b[39mfind_element(By\u001b[39m.\u001b[39mID, tr\u001b[39m.\u001b[39mbutton[\u001b[39m'\u001b[39m\u001b[39mid\u001b[39m\u001b[39m'\u001b[39m]), esperar)\n\u001b[0;32m     <a href='file:///c%3A/Users/DanielJaramillo/Documents/3Research/juicios/code/webscrap/scrap_juicios.py?line=71'>72</a>\u001b[0m     time\u001b[39m.\u001b[39msleep(delay)\n",
      "\u001b[1;31mAttributeError\u001b[0m: 'NoneType' object has no attribute 'find_all'"
     ]
    }
   ],
   "source": [
    "for depnumber in guayas[3:26]:\n",
    "    # Create file\n",
    "    try:\n",
    "        df_folder = pd.read_excel(db/f'data/raw/resumen_{depnumber}.xls')\n",
    "    except FileNotFoundError:\n",
    "        df_folder = pd.DataFrame()\n",
    "\n",
    "    # First attempt\n",
    "    res = obtener_datos(df_folder, depnumber)\n",
    "    df_procesos = pd.concat([df_folder, res['df']], ignore_index=True).copy()\n",
    "    df_procesos.to_excel(db/f'data/raw/resumen_{depnumber}.xls', index=False)\n",
    "\n",
    "    # Loop while false\n",
    "    while res['estado'] == False:\n",
    "        res = obtener_datos(df_procesos, depnumber)\n",
    "        df_procesos = pd.concat([df_procesos, res['df']], ignore_index=True).copy()\n",
    "        df_procesos.to_excel(db/f'data/raw/resumen_{depnumber}.xls', index=False)\n",
    "\n",
    "    # Save if true\n",
    "    else:\n",
    "        df_procesos = pd.concat([df_procesos, res['df']], ignore_index=True).copy()\n",
    "        df_procesos.to_excel(db/f'data/raw/resumen_{depnumber}.xls', index=False)\n",
    "        print(f'Finally!!! {depnumber}')"
   ]
  },
  {
   "cell_type": "code",
   "execution_count": null,
   "metadata": {},
   "outputs": [],
   "source": []
  }
 ],
 "metadata": {
  "interpreter": {
   "hash": "9ef9b2186aea4605a870dc78e0859b2817db6154424ae021908cee60e95154f5"
  },
  "kernelspec": {
   "display_name": "Python 3.10.4 ('wscrap')",
   "language": "python",
   "name": "python3"
  },
  "language_info": {
   "codemirror_mode": {
    "name": "ipython",
    "version": 3
   },
   "file_extension": ".py",
   "mimetype": "text/x-python",
   "name": "python",
   "nbconvert_exporter": "python",
   "pygments_lexer": "ipython3",
   "version": "3.10.4"
  },
  "orig_nbformat": 4
 },
 "nbformat": 4,
 "nbformat_minor": 2
}
