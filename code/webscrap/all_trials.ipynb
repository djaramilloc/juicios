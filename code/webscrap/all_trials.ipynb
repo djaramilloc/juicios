{
 "cells": [
  {
   "cell_type": "markdown",
   "metadata": {},
   "source": [
    "## Web Scrap all trials\n",
    "**Author:** Daniel Jaramillo"
   ]
  },
  {
   "cell_type": "code",
   "execution_count": 1,
   "metadata": {},
   "outputs": [],
   "source": [
    "import pandas as pd\n",
    "from pathlib import Path\n",
    "from selenium import webdriver\n",
    "\n",
    "from scrap_juicios import scrap_juicios"
   ]
  },
  {
   "cell_type": "code",
   "execution_count": null,
   "metadata": {},
   "outputs": [],
   "source": [
    "from selenium.webdriver.common.by import By\n",
    "from selenium.webdriver.support.ui import WebDriverWait\n",
    "from selenium.webdriver.support import expected_conditions as EC"
   ]
  },
  {
   "cell_type": "code",
   "execution_count": 2,
   "metadata": {},
   "outputs": [],
   "source": [
    "# Define Paths\n",
    "db = Path.cwd().parents[1]"
   ]
  },
  {
   "cell_type": "code",
   "execution_count": null,
   "metadata": {},
   "outputs": [],
   "source": [
    "# Load dependencias codes\n",
    "db_depen = pd.read_csv(db/'data/raw/codigos_dependencias_satje.csv', header=None, names=['id_dependencia'])\n",
    "\n",
    "# El Codigo de dependencia tiene 5 digitos. Lo convierto a string y anado un cero a los que tienen 4\n",
    "db_depen['id_dependencia'] = db_depen['id_dependencia'].apply(lambda x: \"0\" + str(x) if len(str(x))==4 else str(x))\n",
    "db_depen = db_depen.sort_values(by='id_dependencia').reset_index(drop=True)"
   ]
  },
  {
   "cell_type": "markdown",
   "metadata": {},
   "source": [
    "La idea es tomar una dependencia, un ano, y probar todos los numeros posibles de procesos."
   ]
  },
  {
   "cell_type": "code",
   "execution_count": 3,
   "metadata": {},
   "outputs": [],
   "source": [
    "def juicios(driver, dep_judicial, year, n_attempt):\n",
    "\n",
    "    # Create id_proceso\n",
    "    id_proceso = (5-len(str(n_attempt)))*'0' + str(n_attempt)\n",
    "\n",
    "    # Call function to webscrap\n",
    "    result_list = scrap_juicios(driver, dep_judicial, year, id_proceso, url, delay=2)\n",
    "\n",
    "    # Convert results to pandas\n",
    "    result_df = pd.DataFrame()\n",
    "    for instancia in result_list:\n",
    "        result_df = pd.concat([result_df, pd.DataFrame(instancia, index=[0])], ignore_index=True)\n",
    "\n",
    "    return result_df"
   ]
  },
  {
   "cell_type": "code",
   "execution_count": 8,
   "metadata": {},
   "outputs": [
    {
     "name": "stderr",
     "output_type": "stream",
     "text": [
      "C:\\Users\\DanielJaramillo\\AppData\\Local\\Temp\\ipykernel_26216\\704284301.py:8: DeprecationWarning: executable_path has been deprecated, please pass in a Service object\n",
      "  driver = webdriver.Firefox(executable_path=gecko_path, options=options)\n"
     ]
    }
   ],
   "source": [
    "# Define options for browser\n",
    "options = webdriver.FirefoxOptions()\n",
    "#options.headless = True # do not show browser window\n",
    "#options.page_load_strategy = 'none' # Dont wait page to be loaded\n",
    "\n",
    "# Start Driver\n",
    "gecko_path = 'C:/Users/DanielJaramillo/Documents/geckodriver.exe'\n",
    "driver = webdriver.Firefox(executable_path=gecko_path, options=options)\n",
    "url = 'http://consultas.funcionjudicial.gob.ec/informacionjudicial/public/informacion.jsf'"
   ]
  },
  {
   "cell_type": "code",
   "execution_count": 9,
   "metadata": {},
   "outputs": [],
   "source": [
    "# Define base for results\n",
    "results = pd.DataFrame()\n",
    "\n",
    "# Loop over years \n",
    "for year in range(2019, 2021):\n",
    "\n",
    "    # Loop over possible trials\n",
    "    for n_attempt in range(1, 99999+1):\n",
    "        results_df = juicios(driver, '09100', str(year), n_attempt)\n",
    "        \n",
    "        if 'No existe este proceso' in results_df.causa[0]:\n",
    "            break\n",
    "\n",
    "        else:\n",
    "            results = pd.concat([results, results_df], ignore_index=True)\n",
    "\n",
    "driver.close()"
   ]
  },
  {
   "cell_type": "code",
   "execution_count": null,
   "metadata": {},
   "outputs": [],
   "source": [
    "# Save results\n",
    "driver.close()\n",
    "results.to_excel(db/f'data/raw/satje/resumen_09100.xls', index=False)"
   ]
  },
  {
   "cell_type": "code",
   "execution_count": 7,
   "metadata": {},
   "outputs": [],
   "source": [
    "driver.close()"
   ]
  },
  {
   "cell_type": "code",
   "execution_count": null,
   "metadata": {},
   "outputs": [],
   "source": []
  }
 ],
 "metadata": {
  "interpreter": {
   "hash": "9ef9b2186aea4605a870dc78e0859b2817db6154424ae021908cee60e95154f5"
  },
  "kernelspec": {
   "display_name": "Python 3.10.4 ('wscrap')",
   "language": "python",
   "name": "python3"
  },
  "language_info": {
   "codemirror_mode": {
    "name": "ipython",
    "version": 3
   },
   "file_extension": ".py",
   "mimetype": "text/x-python",
   "name": "python",
   "nbconvert_exporter": "python",
   "pygments_lexer": "ipython3",
   "version": "3.10.4"
  },
  "orig_nbformat": 4
 },
 "nbformat": 4,
 "nbformat_minor": 2
}
