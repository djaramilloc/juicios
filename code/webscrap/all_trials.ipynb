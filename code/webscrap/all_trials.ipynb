{
 "cells": [
  {
   "cell_type": "markdown",
   "metadata": {},
   "source": [
    "## Web Scrap all trials\n",
    "**Author:** Daniel Jaramillo"
   ]
  },
  {
   "cell_type": "code",
   "execution_count": 1,
   "metadata": {},
   "outputs": [],
   "source": [
    "import pandas as pd\n",
    "from pathlib import Path\n",
    "from selenium import webdriver\n",
    "\n",
    "from scrap_juicios import scrap_juicios"
   ]
  },
  {
   "cell_type": "code",
   "execution_count": 2,
   "metadata": {},
   "outputs": [],
   "source": [
    "from bs4 import BeautifulSoup\n",
    "from selenium.webdriver.common.by import By\n",
    "from selenium.webdriver.support.ui import WebDriverWait\n",
    "from selenium.webdriver.support import expected_conditions as EC"
   ]
  },
  {
   "cell_type": "code",
   "execution_count": 3,
   "metadata": {},
   "outputs": [],
   "source": [
    "# Define Paths\n",
    "db = Path.cwd().parents[1]"
   ]
  },
  {
   "cell_type": "code",
   "execution_count": 4,
   "metadata": {},
   "outputs": [],
   "source": [
    "# Load dependencias codes\n",
    "db_depen = pd.read_csv(db/'data/raw/codigos_dependencias_satje.csv', header=None, names=['id_dependencia'])\n",
    "\n",
    "# El Codigo de dependencia tiene 5 digitos. Lo convierto a string y anado un cero a los que tienen 4\n",
    "db_depen['id_dependencia'] = db_depen['id_dependencia'].apply(lambda x: \"0\" + str(x) if len(str(x))==4 else str(x))\n",
    "db_depen = db_depen.sort_values(by='id_dependencia').reset_index(drop=True)"
   ]
  },
  {
   "cell_type": "markdown",
   "metadata": {},
   "source": [
    "1. Voy a tratar de obtener primero todos los juicios del Guayas"
   ]
  },
  {
   "cell_type": "code",
   "execution_count": 5,
   "metadata": {},
   "outputs": [],
   "source": [
    "guayas = list(db_depen.loc[db_depen['id_dependencia'].apply(lambda x: x.startswith('09')), 'id_dependencia'])"
   ]
  },
  {
   "cell_type": "markdown",
   "metadata": {},
   "source": [
    "La idea es tomar una dependencia, un ano, y probar todos los numeros posibles de procesos."
   ]
  },
  {
   "cell_type": "code",
   "execution_count": 6,
   "metadata": {},
   "outputs": [],
   "source": [
    "def juicios(driver, dep_judicial, year, n_attempt):\n",
    "\n",
    "    # Create id_proceso\n",
    "    id_proceso = (5-len(str(n_attempt)))*'0' + str(n_attempt)\n",
    "\n",
    "    # Call function to webscrap\n",
    "    result_list = scrap_juicios(driver, dep_judicial, year, id_proceso, delay=2)\n",
    "\n",
    "    # Convert results to pandas\n",
    "    result_df = pd.DataFrame()\n",
    "    for instancia in result_list:\n",
    "        result_df = pd.concat([result_df, pd.DataFrame(instancia, index=[0])], ignore_index=True)\n",
    "\n",
    "    return result_df"
   ]
  },
  {
   "cell_type": "code",
   "execution_count": 7,
   "metadata": {},
   "outputs": [
    {
     "name": "stderr",
     "output_type": "stream",
     "text": [
      "C:\\Users\\DanielJaramillo\\AppData\\Local\\Temp\\ipykernel_19180\\3767969703.py:8: DeprecationWarning: executable_path has been deprecated, please pass in a Service object\n",
      "  driver = webdriver.Firefox(executable_path=gecko_path, options=options)\n"
     ]
    }
   ],
   "source": [
    "# Define options for browser\n",
    "options = webdriver.FirefoxOptions()\n",
    "#options.headless = True # do not show browser window\n",
    "options.page_load_strategy = 'none' # Dont wait page to be loaded\n",
    "\n",
    "# Start Driver\n",
    "gecko_path = 'C:/Users/DanielJaramillo/Documents/geckodriver.exe'\n",
    "driver = webdriver.Firefox(executable_path=gecko_path, options=options)\n",
    "url = 'http://consultas.funcionjudicial.gob.ec/informacionjudicial/public/informacion.jsf'"
   ]
  },
  {
   "cell_type": "code",
   "execution_count": 8,
   "metadata": {},
   "outputs": [
    {
     "ename": "ElementNotInteractableException",
     "evalue": "Message: Element <button id=\"form1:butLimpiar\" class=\"ui-button ui-widget ui-state-default ui-corner-all ui-button-text-only\" name=\"form1:butLimpiar\" type=\"submit\"> could not be scrolled into view\nStacktrace:\nWebDriverError@chrome://remote/content/shared/webdriver/Errors.jsm:183:5\nElementNotInteractableError@chrome://remote/content/shared/webdriver/Errors.jsm:293:5\nwebdriverClickElement@chrome://remote/content/marionette/interaction.js:156:11\ninteraction.clickElement@chrome://remote/content/marionette/interaction.js:125:11\nclickElement@chrome://remote/content/marionette/actors/MarionetteCommandsChild.jsm:203:24\nreceiveMessage@chrome://remote/content/marionette/actors/MarionetteCommandsChild.jsm:91:31\n",
     "output_type": "error",
     "traceback": [
      "\u001b[1;31m---------------------------------------------------------------------------\u001b[0m",
      "\u001b[1;31mElementNotInteractableException\u001b[0m           Traceback (most recent call last)",
      "File \u001b[1;32mc:\\Users\\DanielJaramillo\\Documents\\3Research\\juicios\\code\\webscrap\\scrap_juicios.py:11\u001b[0m, in \u001b[0;36mingresar\u001b[1;34m(element, espero)\u001b[0m\n\u001b[0;32m     <a href='file:///c%3A/Users/DanielJaramillo/Documents/3Research/juicios/code/webscrap/scrap_juicios.py?line=9'>10</a>\u001b[0m \u001b[39mtry\u001b[39;00m:\n\u001b[1;32m---> <a href='file:///c%3A/Users/DanielJaramillo/Documents/3Research/juicios/code/webscrap/scrap_juicios.py?line=10'>11</a>\u001b[0m     element\u001b[39m.\u001b[39;49mclick()\n\u001b[0;32m     <a href='file:///c%3A/Users/DanielJaramillo/Documents/3Research/juicios/code/webscrap/scrap_juicios.py?line=11'>12</a>\u001b[0m \u001b[39mexcept\u001b[39;00m:\n",
      "File \u001b[1;32m~\\miniconda3\\envs\\wscrap\\lib\\site-packages\\selenium\\webdriver\\remote\\webelement.py:81\u001b[0m, in \u001b[0;36mWebElement.click\u001b[1;34m(self)\u001b[0m\n\u001b[0;32m     <a href='file:///c%3A/Users/DanielJaramillo/miniconda3/envs/wscrap/lib/site-packages/selenium/webdriver/remote/webelement.py?line=79'>80</a>\u001b[0m \u001b[39m\"\"\"Clicks the element.\"\"\"\u001b[39;00m\n\u001b[1;32m---> <a href='file:///c%3A/Users/DanielJaramillo/miniconda3/envs/wscrap/lib/site-packages/selenium/webdriver/remote/webelement.py?line=80'>81</a>\u001b[0m \u001b[39mself\u001b[39;49m\u001b[39m.\u001b[39;49m_execute(Command\u001b[39m.\u001b[39;49mCLICK_ELEMENT)\n",
      "File \u001b[1;32m~\\miniconda3\\envs\\wscrap\\lib\\site-packages\\selenium\\webdriver\\remote\\webelement.py:710\u001b[0m, in \u001b[0;36mWebElement._execute\u001b[1;34m(self, command, params)\u001b[0m\n\u001b[0;32m    <a href='file:///c%3A/Users/DanielJaramillo/miniconda3/envs/wscrap/lib/site-packages/selenium/webdriver/remote/webelement.py?line=708'>709</a>\u001b[0m params[\u001b[39m'\u001b[39m\u001b[39mid\u001b[39m\u001b[39m'\u001b[39m] \u001b[39m=\u001b[39m \u001b[39mself\u001b[39m\u001b[39m.\u001b[39m_id\n\u001b[1;32m--> <a href='file:///c%3A/Users/DanielJaramillo/miniconda3/envs/wscrap/lib/site-packages/selenium/webdriver/remote/webelement.py?line=709'>710</a>\u001b[0m \u001b[39mreturn\u001b[39;00m \u001b[39mself\u001b[39;49m\u001b[39m.\u001b[39;49m_parent\u001b[39m.\u001b[39;49mexecute(command, params)\n",
      "File \u001b[1;32m~\\miniconda3\\envs\\wscrap\\lib\\site-packages\\selenium\\webdriver\\remote\\webdriver.py:424\u001b[0m, in \u001b[0;36mWebDriver.execute\u001b[1;34m(self, driver_command, params)\u001b[0m\n\u001b[0;32m    <a href='file:///c%3A/Users/DanielJaramillo/miniconda3/envs/wscrap/lib/site-packages/selenium/webdriver/remote/webdriver.py?line=422'>423</a>\u001b[0m \u001b[39mif\u001b[39;00m response:\n\u001b[1;32m--> <a href='file:///c%3A/Users/DanielJaramillo/miniconda3/envs/wscrap/lib/site-packages/selenium/webdriver/remote/webdriver.py?line=423'>424</a>\u001b[0m     \u001b[39mself\u001b[39;49m\u001b[39m.\u001b[39;49merror_handler\u001b[39m.\u001b[39;49mcheck_response(response)\n\u001b[0;32m    <a href='file:///c%3A/Users/DanielJaramillo/miniconda3/envs/wscrap/lib/site-packages/selenium/webdriver/remote/webdriver.py?line=424'>425</a>\u001b[0m     response[\u001b[39m'\u001b[39m\u001b[39mvalue\u001b[39m\u001b[39m'\u001b[39m] \u001b[39m=\u001b[39m \u001b[39mself\u001b[39m\u001b[39m.\u001b[39m_unwrap_value(\n\u001b[0;32m    <a href='file:///c%3A/Users/DanielJaramillo/miniconda3/envs/wscrap/lib/site-packages/selenium/webdriver/remote/webdriver.py?line=425'>426</a>\u001b[0m         response\u001b[39m.\u001b[39mget(\u001b[39m'\u001b[39m\u001b[39mvalue\u001b[39m\u001b[39m'\u001b[39m, \u001b[39mNone\u001b[39;00m))\n",
      "File \u001b[1;32m~\\miniconda3\\envs\\wscrap\\lib\\site-packages\\selenium\\webdriver\\remote\\errorhandler.py:247\u001b[0m, in \u001b[0;36mErrorHandler.check_response\u001b[1;34m(self, response)\u001b[0m\n\u001b[0;32m    <a href='file:///c%3A/Users/DanielJaramillo/miniconda3/envs/wscrap/lib/site-packages/selenium/webdriver/remote/errorhandler.py?line=245'>246</a>\u001b[0m     \u001b[39mraise\u001b[39;00m exception_class(message, screen, stacktrace, alert_text)  \u001b[39m# type: ignore[call-arg]  # mypy is not smart enough here\u001b[39;00m\n\u001b[1;32m--> <a href='file:///c%3A/Users/DanielJaramillo/miniconda3/envs/wscrap/lib/site-packages/selenium/webdriver/remote/errorhandler.py?line=246'>247</a>\u001b[0m \u001b[39mraise\u001b[39;00m exception_class(message, screen, stacktrace)\n",
      "\u001b[1;31mElementNotInteractableException\u001b[0m: Message: Element <button id=\"form1:butLimpiar\" class=\"ui-button ui-widget ui-state-default ui-corner-all ui-button-text-only\" name=\"form1:butLimpiar\" type=\"submit\"> could not be scrolled into view\nStacktrace:\nWebDriverError@chrome://remote/content/shared/webdriver/Errors.jsm:183:5\nElementNotInteractableError@chrome://remote/content/shared/webdriver/Errors.jsm:293:5\nwebdriverClickElement@chrome://remote/content/marionette/interaction.js:156:11\ninteraction.clickElement@chrome://remote/content/marionette/interaction.js:125:11\nclickElement@chrome://remote/content/marionette/actors/MarionetteCommandsChild.jsm:203:24\nreceiveMessage@chrome://remote/content/marionette/actors/MarionetteCommandsChild.jsm:91:31\n",
      "\nDuring handling of the above exception, another exception occurred:\n",
      "\u001b[1;31mElementNotInteractableException\u001b[0m           Traceback (most recent call last)",
      "\u001b[1;32mc:\\Users\\DanielJaramillo\\Documents\\3Research\\juicios\\code\\webscrap\\all_trials.ipynb Cell 11'\u001b[0m in \u001b[0;36m<cell line: 6>\u001b[1;34m()\u001b[0m\n\u001b[0;32m      <a href='vscode-notebook-cell:/c%3A/Users/DanielJaramillo/Documents/3Research/juicios/code/webscrap/all_trials.ipynb#ch0000009?line=5'>6</a>\u001b[0m \u001b[39mfor\u001b[39;00m year \u001b[39min\u001b[39;00m \u001b[39mrange\u001b[39m(\u001b[39m2019\u001b[39m, \u001b[39m2021\u001b[39m):\n\u001b[0;32m      <a href='vscode-notebook-cell:/c%3A/Users/DanielJaramillo/Documents/3Research/juicios/code/webscrap/all_trials.ipynb#ch0000009?line=6'>7</a>\u001b[0m \n\u001b[0;32m      <a href='vscode-notebook-cell:/c%3A/Users/DanielJaramillo/Documents/3Research/juicios/code/webscrap/all_trials.ipynb#ch0000009?line=7'>8</a>\u001b[0m     \u001b[39m# Loop over possible trials\u001b[39;00m\n\u001b[0;32m      <a href='vscode-notebook-cell:/c%3A/Users/DanielJaramillo/Documents/3Research/juicios/code/webscrap/all_trials.ipynb#ch0000009?line=8'>9</a>\u001b[0m     \u001b[39mfor\u001b[39;00m n_attempt \u001b[39min\u001b[39;00m \u001b[39mrange\u001b[39m(\u001b[39m1\u001b[39m, \u001b[39m99999\u001b[39m\u001b[39m+\u001b[39m\u001b[39m1\u001b[39m):\n\u001b[1;32m---> <a href='vscode-notebook-cell:/c%3A/Users/DanielJaramillo/Documents/3Research/juicios/code/webscrap/all_trials.ipynb#ch0000009?line=9'>10</a>\u001b[0m         results_df \u001b[39m=\u001b[39m juicios(driver, \u001b[39m'\u001b[39;49m\u001b[39m09100\u001b[39;49m\u001b[39m'\u001b[39;49m, \u001b[39mstr\u001b[39;49m(year), n_attempt)\n\u001b[0;32m     <a href='vscode-notebook-cell:/c%3A/Users/DanielJaramillo/Documents/3Research/juicios/code/webscrap/all_trials.ipynb#ch0000009?line=11'>12</a>\u001b[0m         \u001b[39mif\u001b[39;00m \u001b[39m'\u001b[39m\u001b[39mNo existe este proceso\u001b[39m\u001b[39m'\u001b[39m \u001b[39min\u001b[39;00m results_df\u001b[39m.\u001b[39mcausa[\u001b[39m0\u001b[39m]:\n\u001b[0;32m     <a href='vscode-notebook-cell:/c%3A/Users/DanielJaramillo/Documents/3Research/juicios/code/webscrap/all_trials.ipynb#ch0000009?line=12'>13</a>\u001b[0m             \u001b[39mbreak\u001b[39;00m\n",
      "\u001b[1;32mc:\\Users\\DanielJaramillo\\Documents\\3Research\\juicios\\code\\webscrap\\all_trials.ipynb Cell 9'\u001b[0m in \u001b[0;36mjuicios\u001b[1;34m(driver, dep_judicial, year, n_attempt)\u001b[0m\n\u001b[0;32m      <a href='vscode-notebook-cell:/c%3A/Users/DanielJaramillo/Documents/3Research/juicios/code/webscrap/all_trials.ipynb#ch0000007?line=3'>4</a>\u001b[0m id_proceso \u001b[39m=\u001b[39m (\u001b[39m5\u001b[39m\u001b[39m-\u001b[39m\u001b[39mlen\u001b[39m(\u001b[39mstr\u001b[39m(n_attempt)))\u001b[39m*\u001b[39m\u001b[39m'\u001b[39m\u001b[39m0\u001b[39m\u001b[39m'\u001b[39m \u001b[39m+\u001b[39m \u001b[39mstr\u001b[39m(n_attempt)\n\u001b[0;32m      <a href='vscode-notebook-cell:/c%3A/Users/DanielJaramillo/Documents/3Research/juicios/code/webscrap/all_trials.ipynb#ch0000007?line=5'>6</a>\u001b[0m \u001b[39m# Call function to webscrap\u001b[39;00m\n\u001b[1;32m----> <a href='vscode-notebook-cell:/c%3A/Users/DanielJaramillo/Documents/3Research/juicios/code/webscrap/all_trials.ipynb#ch0000007?line=6'>7</a>\u001b[0m result_list \u001b[39m=\u001b[39m scrap_juicios(driver, dep_judicial, year, id_proceso, delay\u001b[39m=\u001b[39;49m\u001b[39m2\u001b[39;49m)\n\u001b[0;32m      <a href='vscode-notebook-cell:/c%3A/Users/DanielJaramillo/Documents/3Research/juicios/code/webscrap/all_trials.ipynb#ch0000007?line=8'>9</a>\u001b[0m \u001b[39m# Convert results to pandas\u001b[39;00m\n\u001b[0;32m     <a href='vscode-notebook-cell:/c%3A/Users/DanielJaramillo/Documents/3Research/juicios/code/webscrap/all_trials.ipynb#ch0000007?line=9'>10</a>\u001b[0m result_df \u001b[39m=\u001b[39m pd\u001b[39m.\u001b[39mDataFrame()\n",
      "File \u001b[1;32mc:\\Users\\DanielJaramillo\\Documents\\3Research\\juicios\\code\\webscrap\\scrap_juicios.py:141\u001b[0m, in \u001b[0;36mscrap_juicios\u001b[1;34m(driver, dependencia, year, secuencial, delay, waits)\u001b[0m\n\u001b[0;32m    <a href='file:///c%3A/Users/DanielJaramillo/Documents/3Research/juicios/code/webscrap/scrap_juicios.py?line=137'>138</a>\u001b[0m         time\u001b[39m.\u001b[39msleep(delay)\n\u001b[0;32m    <a href='file:///c%3A/Users/DanielJaramillo/Documents/3Research/juicios/code/webscrap/scrap_juicios.py?line=139'>140</a>\u001b[0m \u001b[39m# Click en boton limpiar\u001b[39;00m\n\u001b[1;32m--> <a href='file:///c%3A/Users/DanielJaramillo/Documents/3Research/juicios/code/webscrap/scrap_juicios.py?line=140'>141</a>\u001b[0m ingresar(driver\u001b[39m.\u001b[39;49mfind_element(By\u001b[39m.\u001b[39;49mXPATH, \u001b[39m'\u001b[39;49m\u001b[39m//*[@id=\u001b[39;49m\u001b[39m\"\u001b[39;49m\u001b[39mform1:butLimpiar\u001b[39;49m\u001b[39m\"\u001b[39;49m\u001b[39m]\u001b[39;49m\u001b[39m'\u001b[39;49m), esperar)\n\u001b[0;32m    <a href='file:///c%3A/Users/DanielJaramillo/Documents/3Research/juicios/code/webscrap/scrap_juicios.py?line=142'>143</a>\u001b[0m \u001b[39mreturn\u001b[39;00m caracteristicas\n",
      "File \u001b[1;32mc:\\Users\\DanielJaramillo\\Documents\\3Research\\juicios\\code\\webscrap\\scrap_juicios.py:14\u001b[0m, in \u001b[0;36mingresar\u001b[1;34m(element, espero)\u001b[0m\n\u001b[0;32m     <a href='file:///c%3A/Users/DanielJaramillo/Documents/3Research/juicios/code/webscrap/scrap_juicios.py?line=11'>12</a>\u001b[0m \u001b[39mexcept\u001b[39;00m:\n\u001b[0;32m     <a href='file:///c%3A/Users/DanielJaramillo/Documents/3Research/juicios/code/webscrap/scrap_juicios.py?line=12'>13</a>\u001b[0m     time\u001b[39m.\u001b[39msleep(espero)\n\u001b[1;32m---> <a href='file:///c%3A/Users/DanielJaramillo/Documents/3Research/juicios/code/webscrap/scrap_juicios.py?line=13'>14</a>\u001b[0m     element\u001b[39m.\u001b[39;49mclick()\n",
      "File \u001b[1;32m~\\miniconda3\\envs\\wscrap\\lib\\site-packages\\selenium\\webdriver\\remote\\webelement.py:81\u001b[0m, in \u001b[0;36mWebElement.click\u001b[1;34m(self)\u001b[0m\n\u001b[0;32m     <a href='file:///c%3A/Users/DanielJaramillo/miniconda3/envs/wscrap/lib/site-packages/selenium/webdriver/remote/webelement.py?line=78'>79</a>\u001b[0m \u001b[39mdef\u001b[39;00m \u001b[39mclick\u001b[39m(\u001b[39mself\u001b[39m) \u001b[39m-\u001b[39m\u001b[39m>\u001b[39m \u001b[39mNone\u001b[39;00m:\n\u001b[0;32m     <a href='file:///c%3A/Users/DanielJaramillo/miniconda3/envs/wscrap/lib/site-packages/selenium/webdriver/remote/webelement.py?line=79'>80</a>\u001b[0m     \u001b[39m\"\"\"Clicks the element.\"\"\"\u001b[39;00m\n\u001b[1;32m---> <a href='file:///c%3A/Users/DanielJaramillo/miniconda3/envs/wscrap/lib/site-packages/selenium/webdriver/remote/webelement.py?line=80'>81</a>\u001b[0m     \u001b[39mself\u001b[39;49m\u001b[39m.\u001b[39;49m_execute(Command\u001b[39m.\u001b[39;49mCLICK_ELEMENT)\n",
      "File \u001b[1;32m~\\miniconda3\\envs\\wscrap\\lib\\site-packages\\selenium\\webdriver\\remote\\webelement.py:710\u001b[0m, in \u001b[0;36mWebElement._execute\u001b[1;34m(self, command, params)\u001b[0m\n\u001b[0;32m    <a href='file:///c%3A/Users/DanielJaramillo/miniconda3/envs/wscrap/lib/site-packages/selenium/webdriver/remote/webelement.py?line=707'>708</a>\u001b[0m     params \u001b[39m=\u001b[39m {}\n\u001b[0;32m    <a href='file:///c%3A/Users/DanielJaramillo/miniconda3/envs/wscrap/lib/site-packages/selenium/webdriver/remote/webelement.py?line=708'>709</a>\u001b[0m params[\u001b[39m'\u001b[39m\u001b[39mid\u001b[39m\u001b[39m'\u001b[39m] \u001b[39m=\u001b[39m \u001b[39mself\u001b[39m\u001b[39m.\u001b[39m_id\n\u001b[1;32m--> <a href='file:///c%3A/Users/DanielJaramillo/miniconda3/envs/wscrap/lib/site-packages/selenium/webdriver/remote/webelement.py?line=709'>710</a>\u001b[0m \u001b[39mreturn\u001b[39;00m \u001b[39mself\u001b[39;49m\u001b[39m.\u001b[39;49m_parent\u001b[39m.\u001b[39;49mexecute(command, params)\n",
      "File \u001b[1;32m~\\miniconda3\\envs\\wscrap\\lib\\site-packages\\selenium\\webdriver\\remote\\webdriver.py:424\u001b[0m, in \u001b[0;36mWebDriver.execute\u001b[1;34m(self, driver_command, params)\u001b[0m\n\u001b[0;32m    <a href='file:///c%3A/Users/DanielJaramillo/miniconda3/envs/wscrap/lib/site-packages/selenium/webdriver/remote/webdriver.py?line=421'>422</a>\u001b[0m response \u001b[39m=\u001b[39m \u001b[39mself\u001b[39m\u001b[39m.\u001b[39mcommand_executor\u001b[39m.\u001b[39mexecute(driver_command, params)\n\u001b[0;32m    <a href='file:///c%3A/Users/DanielJaramillo/miniconda3/envs/wscrap/lib/site-packages/selenium/webdriver/remote/webdriver.py?line=422'>423</a>\u001b[0m \u001b[39mif\u001b[39;00m response:\n\u001b[1;32m--> <a href='file:///c%3A/Users/DanielJaramillo/miniconda3/envs/wscrap/lib/site-packages/selenium/webdriver/remote/webdriver.py?line=423'>424</a>\u001b[0m     \u001b[39mself\u001b[39;49m\u001b[39m.\u001b[39;49merror_handler\u001b[39m.\u001b[39;49mcheck_response(response)\n\u001b[0;32m    <a href='file:///c%3A/Users/DanielJaramillo/miniconda3/envs/wscrap/lib/site-packages/selenium/webdriver/remote/webdriver.py?line=424'>425</a>\u001b[0m     response[\u001b[39m'\u001b[39m\u001b[39mvalue\u001b[39m\u001b[39m'\u001b[39m] \u001b[39m=\u001b[39m \u001b[39mself\u001b[39m\u001b[39m.\u001b[39m_unwrap_value(\n\u001b[0;32m    <a href='file:///c%3A/Users/DanielJaramillo/miniconda3/envs/wscrap/lib/site-packages/selenium/webdriver/remote/webdriver.py?line=425'>426</a>\u001b[0m         response\u001b[39m.\u001b[39mget(\u001b[39m'\u001b[39m\u001b[39mvalue\u001b[39m\u001b[39m'\u001b[39m, \u001b[39mNone\u001b[39;00m))\n\u001b[0;32m    <a href='file:///c%3A/Users/DanielJaramillo/miniconda3/envs/wscrap/lib/site-packages/selenium/webdriver/remote/webdriver.py?line=426'>427</a>\u001b[0m     \u001b[39mreturn\u001b[39;00m response\n",
      "File \u001b[1;32m~\\miniconda3\\envs\\wscrap\\lib\\site-packages\\selenium\\webdriver\\remote\\errorhandler.py:247\u001b[0m, in \u001b[0;36mErrorHandler.check_response\u001b[1;34m(self, response)\u001b[0m\n\u001b[0;32m    <a href='file:///c%3A/Users/DanielJaramillo/miniconda3/envs/wscrap/lib/site-packages/selenium/webdriver/remote/errorhandler.py?line=244'>245</a>\u001b[0m         alert_text \u001b[39m=\u001b[39m value[\u001b[39m'\u001b[39m\u001b[39malert\u001b[39m\u001b[39m'\u001b[39m]\u001b[39m.\u001b[39mget(\u001b[39m'\u001b[39m\u001b[39mtext\u001b[39m\u001b[39m'\u001b[39m)\n\u001b[0;32m    <a href='file:///c%3A/Users/DanielJaramillo/miniconda3/envs/wscrap/lib/site-packages/selenium/webdriver/remote/errorhandler.py?line=245'>246</a>\u001b[0m     \u001b[39mraise\u001b[39;00m exception_class(message, screen, stacktrace, alert_text)  \u001b[39m# type: ignore[call-arg]  # mypy is not smart enough here\u001b[39;00m\n\u001b[1;32m--> <a href='file:///c%3A/Users/DanielJaramillo/miniconda3/envs/wscrap/lib/site-packages/selenium/webdriver/remote/errorhandler.py?line=246'>247</a>\u001b[0m \u001b[39mraise\u001b[39;00m exception_class(message, screen, stacktrace)\n",
      "\u001b[1;31mElementNotInteractableException\u001b[0m: Message: Element <button id=\"form1:butLimpiar\" class=\"ui-button ui-widget ui-state-default ui-corner-all ui-button-text-only\" name=\"form1:butLimpiar\" type=\"submit\"> could not be scrolled into view\nStacktrace:\nWebDriverError@chrome://remote/content/shared/webdriver/Errors.jsm:183:5\nElementNotInteractableError@chrome://remote/content/shared/webdriver/Errors.jsm:293:5\nwebdriverClickElement@chrome://remote/content/marionette/interaction.js:156:11\ninteraction.clickElement@chrome://remote/content/marionette/interaction.js:125:11\nclickElement@chrome://remote/content/marionette/actors/MarionetteCommandsChild.jsm:203:24\nreceiveMessage@chrome://remote/content/marionette/actors/MarionetteCommandsChild.jsm:91:31\n"
     ]
    }
   ],
   "source": [
    "# Define base for results\n",
    "results = pd.DataFrame()\n",
    "driver.get(url)\n",
    "\n",
    "# Loop over years \n",
    "for year in range(2019, 2021):\n",
    "\n",
    "    # Loop over possible trials\n",
    "    for n_attempt in range(1, 99999+1):\n",
    "        results_df = juicios(driver, '09100', str(year), n_attempt)\n",
    "        \n",
    "        if 'No existe este proceso' in results_df.causa[0]:\n",
    "            break\n",
    "\n",
    "        else:\n",
    "            results = pd.concat([results, results_df], ignore_index=True)\n",
    "\n",
    "driver.close()"
   ]
  },
  {
   "cell_type": "code",
   "execution_count": 12,
   "metadata": {},
   "outputs": [],
   "source": [
    "# Save results\n",
    "results.to_excel(db/f'data/raw/resumen_09100.xls', index=False)"
   ]
  },
  {
   "cell_type": "code",
   "execution_count": null,
   "metadata": {},
   "outputs": [],
   "source": []
  }
 ],
 "metadata": {
  "interpreter": {
   "hash": "9ef9b2186aea4605a870dc78e0859b2817db6154424ae021908cee60e95154f5"
  },
  "kernelspec": {
   "display_name": "Python 3.10.4 ('wscrap')",
   "language": "python",
   "name": "python3"
  },
  "language_info": {
   "codemirror_mode": {
    "name": "ipython",
    "version": 3
   },
   "file_extension": ".py",
   "mimetype": "text/x-python",
   "name": "python",
   "nbconvert_exporter": "python",
   "pygments_lexer": "ipython3",
   "version": "3.10.4"
  },
  "orig_nbformat": 4
 },
 "nbformat": 4,
 "nbformat_minor": 2
}
