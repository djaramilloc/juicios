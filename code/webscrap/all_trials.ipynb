{
 "cells": [
  {
   "cell_type": "markdown",
   "metadata": {},
   "source": [
    "## Web Scrap all trials\n",
    "**Author:** Daniel Jaramillo"
   ]
  },
  {
   "cell_type": "code",
   "execution_count": null,
   "metadata": {},
   "outputs": [],
   "source": [
    "import pandas as pd\n",
    "import re\n",
    "from pathlib import Path\n",
    "\n",
    "from selenium import webdriver\n",
    "from selenium.common.exceptions import ElementNotInteractableException\n",
    "from scrap_juicios import scrap_juicios\n",
    "\n",
    "from fake_useragent import UserAgent"
   ]
  },
  {
   "cell_type": "code",
   "execution_count": null,
   "metadata": {},
   "outputs": [],
   "source": [
    "# Define Paths\n",
    "db = Path.cwd().parents[1]"
   ]
  },
  {
   "cell_type": "markdown",
   "metadata": {},
   "source": [
    "***\n",
    "### Define functions"
   ]
  },
  {
   "cell_type": "markdown",
   "metadata": {},
   "source": [
    "First function to obtain the data of the webscrap for a single query"
   ]
  },
  {
   "cell_type": "code",
   "execution_count": null,
   "metadata": {},
   "outputs": [],
   "source": [
    "def juicios(driver, dep_judicial, year, n_attempt):\n",
    "\n",
    "    # Create id_proceso\n",
    "    id_proceso = (5-len(str(n_attempt)))*'0' + str(n_attempt)\n",
    "\n",
    "    # Call function to webscrap\n",
    "    result_list = scrap_juicios(driver, dep_judicial, year, id_proceso, delay=2)\n",
    "\n",
    "    # Convert results to pandas\n",
    "    result_df = pd.DataFrame()\n",
    "    for instancia in result_list:\n",
    "        result_df = pd.concat([result_df, pd.DataFrame(instancia, index=[0])], ignore_index=True)\n",
    "\n",
    "    return result_df"
   ]
  },
  {
   "cell_type": "markdown",
   "metadata": {},
   "source": [
    "A Function to call the driver, and collect all the information"
   ]
  },
  {
   "cell_type": "code",
   "execution_count": null,
   "metadata": {},
   "outputs": [],
   "source": [
    "def obtener_datos(dflistos, dependencia):\n",
    "\n",
    "    # 1 - Figure out last id of proceso: If it is the first iteration, start from 2014, and 1\n",
    "    if dflistos.shape[0] == 0:\n",
    "        yr_last = 2014\n",
    "        num_last = 1\n",
    "\n",
    "    else:\n",
    "        last_proceso = dflistos['id_proceso'][dflistos.shape[0]-1] \n",
    "        yr_last = int(last_proceso[5:9])\n",
    "        num_last = int(re.sub('\\D', '', last_proceso[9:])) + 1\n",
    "\n",
    "    # 2 - Run Webscraper\n",
    "    # Define options for browser\n",
    "    options = webdriver.FirefoxOptions()\n",
    "    options.headless = True # do not show browser window\n",
    "    options.page_load_strategy = 'none' # Dont wait page to be loaded\n",
    "    options.set_preference(\"general.useragent.override\", UserAgent().random)\n",
    "\n",
    "    # Start Driver\n",
    "    gecko_path = Path.home()/'Documents/geckodriver.exe'\n",
    "    driver = webdriver.Firefox(executable_path=gecko_path, options=options)\n",
    "    url = 'http://consultas.funcionjudicial.gob.ec/informacionjudicial/public/informacion.jsf'\n",
    "    driver.get(url)\n",
    "\n",
    "    # Define base for results\n",
    "    results = pd.DataFrame()\n",
    "\n",
    "    # Loop over years \n",
    "    for year in range(yr_last, 2021):\n",
    "\n",
    "        # Loop over possible trials\n",
    "        for n_attempt in range(num_last, 99999+1):\n",
    "\n",
    "            try:\n",
    "                # Scrap the data\n",
    "                results_df = juicios(driver, dependencia, str(year), n_attempt)\n",
    "                \n",
    "                # Check if id_proceso existe\n",
    "                if 'No existe este proceso' in results_df.causa[0]:\n",
    "                    break\n",
    "\n",
    "                else:\n",
    "                    results = pd.concat([results, results_df], ignore_index=True)\n",
    "\n",
    "            except ElementNotInteractableException:\n",
    "                # If we cannot get the data, return the result up to that point\n",
    "                driver.close()\n",
    "                print('El proceso se interrumpio, seguir corriendo')\n",
    "                return {'estado': False, 'df': results}\n",
    "    \n",
    "    # If all works good\n",
    "    return {'estado': True, 'df': results}"
   ]
  },
  {
   "cell_type": "markdown",
   "metadata": {},
   "source": [
    "***\n",
    "### Create a loop until it finishes the collection of data"
   ]
  },
  {
   "cell_type": "code",
   "execution_count": null,
   "metadata": {},
   "outputs": [],
   "source": [
    "# Load dependencias codes\n",
    "db_depen = pd.read_csv(db/'data/raw/codigos_dependencias_satje.csv', header=None, names=['id_dependencia'])\n",
    "\n",
    "# El Codigo de dependencia tiene 5 digitos. Lo convierto a string y anado un cero a los que tienen 4\n",
    "db_depen['id_dependencia'] = db_depen['id_dependencia'].apply(lambda x: \"0\" + str(x) if len(str(x))==4 else str(x))\n",
    "db_depen = db_depen.sort_values(by='id_dependencia').reset_index(drop=True)\n",
    "\n",
    "guayas = list(db_depen.loc[db_depen['id_dependencia'].apply(lambda x: x.startswith('09')), 'id_dependencia'])"
   ]
  },
  {
   "cell_type": "code",
   "execution_count": null,
   "metadata": {},
   "outputs": [],
   "source": [
    "# Load dataset\n",
    "depnumber = guayas[1]\n",
    "try:\n",
    "    procesos_listos = pd.read_excel(db/f'data/raw/resumen_{depnumber}.xls')\n",
    "except FileNotFoundError:\n",
    "    procesos_listos = pd.DataFrame()\n"
   ]
  },
  {
   "cell_type": "code",
   "execution_count": null,
   "metadata": {},
   "outputs": [],
   "source": [
    "# First attempt\n",
    "res = obtener_datos(procesos_listos, depnumber)\n",
    "dfrestantes = pd.concat([procesos_listos, res['df']], ignore_index=True)\n",
    "dfrestantes.to_excel(db/f'data/raw/resumen_{depnumber}.xls', index=False)\n",
    "\n",
    "# Loop while false\n",
    "while res['estado'] == False:\n",
    "    res = obtener_datos(dfrestantes, depnumber)\n",
    "    dfrestantes = pd.concat([procesos_listos, res['df']], ignore_index=True)\n",
    "    dfrestantes.to_excel(db/f'data/raw/resumen_{depnumber}.xls', index=False)\n",
    "\n",
    "# Save if true\n",
    "else:\n",
    "    dfrestantes = pd.concat([procesos_listos, res['df']], ignore_index=True)\n",
    "    dfrestantes.to_excel(db/f'data/raw/resumen_{depnumber}.xls', index=False)\n",
    "    print('Finally!!!')\n"
   ]
  }
 ],
 "metadata": {
  "interpreter": {
   "hash": "9ef9b2186aea4605a870dc78e0859b2817db6154424ae021908cee60e95154f5"
  },
  "kernelspec": {
   "display_name": "Python 3.10.4 ('wscrap')",
   "language": "python",
   "name": "python3"
  },
  "language_info": {
   "codemirror_mode": {
    "name": "ipython",
    "version": 3
   },
   "file_extension": ".py",
   "mimetype": "text/x-python",
   "name": "python",
   "nbconvert_exporter": "python",
   "pygments_lexer": "ipython3",
   "version": "3.10.4"
  },
  "orig_nbformat": 4
 },
 "nbformat": 4,
 "nbformat_minor": 2
}
