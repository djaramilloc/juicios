{
 "cells": [
  {
   "cell_type": "markdown",
   "metadata": {},
   "source": [
    "## Web Scrap all trials\n",
    "**Author:** Daniel Jaramillo"
   ]
  },
  {
   "cell_type": "code",
   "execution_count": 1,
   "metadata": {},
   "outputs": [],
   "source": [
    "import pandas as pd\n",
    "import re\n",
    "from pathlib import Path\n",
    "\n",
    "from selenium import webdriver\n",
    "from selenium.common.exceptions import ElementNotInteractableException\n",
    "from scrap_juicios import scrap_juicios\n",
    "\n",
    "from fake_useragent import UserAgent"
   ]
  },
  {
   "cell_type": "code",
   "execution_count": 2,
   "metadata": {},
   "outputs": [],
   "source": [
    "# Define Paths\n",
    "db = Path.cwd().parents[1]"
   ]
  },
  {
   "cell_type": "markdown",
   "metadata": {},
   "source": [
    "***\n",
    "### Define functions"
   ]
  },
  {
   "cell_type": "markdown",
   "metadata": {},
   "source": [
    "First function to obtain the data of the webscrap for a single query"
   ]
  },
  {
   "cell_type": "code",
   "execution_count": 3,
   "metadata": {},
   "outputs": [],
   "source": [
    "def juicios(driver, dep_judicial, year, n_attempt):\n",
    "\n",
    "    # Create id_proceso\n",
    "    id_proceso = (5-len(str(n_attempt)))*'0' + str(n_attempt)\n",
    "\n",
    "    # Call function to webscrap\n",
    "    result_list = scrap_juicios(driver, dep_judicial, year, id_proceso, delay=2)\n",
    "\n",
    "    # Convert results to pandas\n",
    "    result_df = pd.DataFrame()\n",
    "    for instancia in result_list:\n",
    "        result_df = pd.concat([result_df, pd.DataFrame(instancia, index=[0])], ignore_index=True)\n",
    "\n",
    "    return result_df"
   ]
  },
  {
   "cell_type": "markdown",
   "metadata": {},
   "source": [
    "A Function to call the driver, and collect all the information"
   ]
  },
  {
   "cell_type": "code",
   "execution_count": 4,
   "metadata": {},
   "outputs": [],
   "source": [
    "def obtener_datos(dflistos, iddep):\n",
    "\n",
    "    # 1 - Figure out last id of proceso: If it is the first iteration, start from 2014, and 1\n",
    "    if dflistos.shape[0] == 0:\n",
    "        yr_last = 2014\n",
    "        num_last = 1\n",
    "\n",
    "    else:\n",
    "        last_proceso = dflistos['id_proceso'][dflistos.shape[0]-1] \n",
    "        yr_last = int(last_proceso[5:9])\n",
    "        num_last = int(re.sub('\\D', '', last_proceso[9:])) + 1\n",
    "\n",
    "    # 2 - Run Webscraper\n",
    "    # Define options for browser\n",
    "    options = webdriver.FirefoxOptions()\n",
    "    #options.headless = True # do not show browser window\n",
    "    options.page_load_strategy = 'none' # Dont wait page to be loaded\n",
    "    options.set_preference(\"general.useragent.override\", UserAgent().random)\n",
    "\n",
    "    # Start Driver\n",
    "    gecko_path = Path.home()/'Documents/geckodriver.exe'\n",
    "    driver = webdriver.Firefox(executable_path=gecko_path, options=options)\n",
    "    url = 'http://consultas.funcionjudicial.gob.ec/informacionjudicial/public/informacion.jsf'\n",
    "    driver.get(url)\n",
    "\n",
    "    # Define base for results\n",
    "    results = pd.DataFrame()\n",
    "\n",
    "    # Loop over years\n",
    "    for year in range(yr_last, 2021):\n",
    "\n",
    "        num_last = 1 if year > yr_last else num_last\n",
    "\n",
    "        # Loop over possible trials\n",
    "        for n_attempt in range(num_last, 99999+1):\n",
    "            try:\n",
    "                # Scrap the data\n",
    "                results_df = juicios(driver, iddep, str(year), n_attempt)\n",
    "                \n",
    "                # Check if id_proceso existe\n",
    "                if 'No existe este proceso' in results_df.causa[0]:\n",
    "                    break\n",
    "\n",
    "                else:\n",
    "                    results = pd.concat([results, results_df], ignore_index=True)\n",
    "\n",
    "            except ElementNotInteractableException:\n",
    "                # If we cannot get the data, return the result up to that point\n",
    "                driver.close()\n",
    "                print('El proceso se interrumpio, seguir corriendo')\n",
    "                return {'estado': False, 'df': results}\n",
    "                \n",
    "    # If all works good\n",
    "    driver.close()\n",
    "    return {'estado': True, 'df': results}"
   ]
  },
  {
   "cell_type": "markdown",
   "metadata": {},
   "source": [
    "***\n",
    "### Create a loop until it finishes the collection of data"
   ]
  },
  {
   "cell_type": "code",
   "execution_count": 5,
   "metadata": {},
   "outputs": [],
   "source": [
    "# Load dependencias codes\n",
    "db_depen = pd.read_csv(db/'data/raw/codigos_dependencias_satje.csv', header=None, names=['id_dependencia'])\n",
    "\n",
    "# El Codigo de dependencia tiene 5 digitos. Lo convierto a string y anado un cero a los que tienen 4\n",
    "db_depen['id_dependencia'] = db_depen['id_dependencia'].apply(lambda x: \"0\" + str(x) if len(str(x))==4 else str(x))\n",
    "db_depen = db_depen.sort_values(by='id_dependencia').reset_index(drop=True)\n",
    "\n",
    "guayas = list(db_depen.loc[db_depen['id_dependencia'].apply(lambda x: x.startswith('09')), 'id_dependencia'])"
   ]
  },
  {
   "cell_type": "code",
   "execution_count": 6,
   "metadata": {},
   "outputs": [],
   "source": [
    "# Load dataset\n",
    "depnumber = guayas[1]\n",
    "try:\n",
    "    procesos_listos = pd.read_excel(db/f'data/raw/resumen_{depnumber}.xls')\n",
    "except FileNotFoundError:\n",
    "    procesos_listos = pd.DataFrame()\n"
   ]
  },
  {
   "cell_type": "code",
   "execution_count": 7,
   "metadata": {},
   "outputs": [
    {
     "name": "stderr",
     "output_type": "stream",
     "text": [
      "C:\\Users\\jaram\\AppData\\Local\\Temp\\ipykernel_7440\\3527435795.py:22: DeprecationWarning: executable_path has been deprecated, please pass in a Service object\n",
      "  driver = webdriver.Firefox(executable_path=gecko_path, options=options)\n"
     ]
    },
    {
     "ename": "StaleElementReferenceException",
     "evalue": "Message: The element reference of <a class=\"ui-paginator-page ui-state-default ui-corner-all\" href=\"#\"> is stale; either the element is no longer attached to the DOM, it is not in the current frame context, or the document has been refreshed\nStacktrace:\nWebDriverError@chrome://remote/content/shared/webdriver/Errors.jsm:183:5\nStaleElementReferenceError@chrome://remote/content/shared/webdriver/Errors.jsm:464:5\nelement.resolveElement@chrome://remote/content/marionette/element.js:681:11\nevaluate.fromJSON@chrome://remote/content/marionette/evaluate.js:254:26\nevaluate.fromJSON@chrome://remote/content/marionette/evaluate.js:262:29\nreceiveMessage@chrome://remote/content/marionette/actors/MarionetteCommandsChild.jsm:79:29\n",
     "output_type": "error",
     "traceback": [
      "\u001b[1;31m---------------------------------------------------------------------------\u001b[0m",
      "\u001b[1;31mElementNotInteractableException\u001b[0m           Traceback (most recent call last)",
      "File \u001b[1;32mc:\\Users\\jaram\\Documents\\2git\\juicios\\code\\webscrap\\scrap_juicios.py:11\u001b[0m, in \u001b[0;36mingresar\u001b[1;34m(element, espero)\u001b[0m\n\u001b[0;32m     <a href='file:///c%3A/Users/jaram/Documents/2git/juicios/code/webscrap/scrap_juicios.py?line=9'>10</a>\u001b[0m \u001b[39mtry\u001b[39;00m:\n\u001b[1;32m---> <a href='file:///c%3A/Users/jaram/Documents/2git/juicios/code/webscrap/scrap_juicios.py?line=10'>11</a>\u001b[0m     element\u001b[39m.\u001b[39;49mclick()\n\u001b[0;32m     <a href='file:///c%3A/Users/jaram/Documents/2git/juicios/code/webscrap/scrap_juicios.py?line=11'>12</a>\u001b[0m \u001b[39mexcept\u001b[39;00m:\n",
      "File \u001b[1;32m~\\miniconda3\\envs\\wscrap\\lib\\site-packages\\selenium\\webdriver\\remote\\webelement.py:81\u001b[0m, in \u001b[0;36mWebElement.click\u001b[1;34m(self)\u001b[0m\n\u001b[0;32m     <a href='file:///c%3A/Users/jaram/miniconda3/envs/wscrap/lib/site-packages/selenium/webdriver/remote/webelement.py?line=79'>80</a>\u001b[0m \u001b[39m\"\"\"Clicks the element.\"\"\"\u001b[39;00m\n\u001b[1;32m---> <a href='file:///c%3A/Users/jaram/miniconda3/envs/wscrap/lib/site-packages/selenium/webdriver/remote/webelement.py?line=80'>81</a>\u001b[0m \u001b[39mself\u001b[39;49m\u001b[39m.\u001b[39;49m_execute(Command\u001b[39m.\u001b[39;49mCLICK_ELEMENT)\n",
      "File \u001b[1;32m~\\miniconda3\\envs\\wscrap\\lib\\site-packages\\selenium\\webdriver\\remote\\webelement.py:710\u001b[0m, in \u001b[0;36mWebElement._execute\u001b[1;34m(self, command, params)\u001b[0m\n\u001b[0;32m    <a href='file:///c%3A/Users/jaram/miniconda3/envs/wscrap/lib/site-packages/selenium/webdriver/remote/webelement.py?line=708'>709</a>\u001b[0m params[\u001b[39m'\u001b[39m\u001b[39mid\u001b[39m\u001b[39m'\u001b[39m] \u001b[39m=\u001b[39m \u001b[39mself\u001b[39m\u001b[39m.\u001b[39m_id\n\u001b[1;32m--> <a href='file:///c%3A/Users/jaram/miniconda3/envs/wscrap/lib/site-packages/selenium/webdriver/remote/webelement.py?line=709'>710</a>\u001b[0m \u001b[39mreturn\u001b[39;00m \u001b[39mself\u001b[39;49m\u001b[39m.\u001b[39;49m_parent\u001b[39m.\u001b[39;49mexecute(command, params)\n",
      "File \u001b[1;32m~\\miniconda3\\envs\\wscrap\\lib\\site-packages\\selenium\\webdriver\\remote\\webdriver.py:424\u001b[0m, in \u001b[0;36mWebDriver.execute\u001b[1;34m(self, driver_command, params)\u001b[0m\n\u001b[0;32m    <a href='file:///c%3A/Users/jaram/miniconda3/envs/wscrap/lib/site-packages/selenium/webdriver/remote/webdriver.py?line=422'>423</a>\u001b[0m \u001b[39mif\u001b[39;00m response:\n\u001b[1;32m--> <a href='file:///c%3A/Users/jaram/miniconda3/envs/wscrap/lib/site-packages/selenium/webdriver/remote/webdriver.py?line=423'>424</a>\u001b[0m     \u001b[39mself\u001b[39;49m\u001b[39m.\u001b[39;49merror_handler\u001b[39m.\u001b[39;49mcheck_response(response)\n\u001b[0;32m    <a href='file:///c%3A/Users/jaram/miniconda3/envs/wscrap/lib/site-packages/selenium/webdriver/remote/webdriver.py?line=424'>425</a>\u001b[0m     response[\u001b[39m'\u001b[39m\u001b[39mvalue\u001b[39m\u001b[39m'\u001b[39m] \u001b[39m=\u001b[39m \u001b[39mself\u001b[39m\u001b[39m.\u001b[39m_unwrap_value(\n\u001b[0;32m    <a href='file:///c%3A/Users/jaram/miniconda3/envs/wscrap/lib/site-packages/selenium/webdriver/remote/webdriver.py?line=425'>426</a>\u001b[0m         response\u001b[39m.\u001b[39mget(\u001b[39m'\u001b[39m\u001b[39mvalue\u001b[39m\u001b[39m'\u001b[39m, \u001b[39mNone\u001b[39;00m))\n",
      "File \u001b[1;32m~\\miniconda3\\envs\\wscrap\\lib\\site-packages\\selenium\\webdriver\\remote\\errorhandler.py:247\u001b[0m, in \u001b[0;36mErrorHandler.check_response\u001b[1;34m(self, response)\u001b[0m\n\u001b[0;32m    <a href='file:///c%3A/Users/jaram/miniconda3/envs/wscrap/lib/site-packages/selenium/webdriver/remote/errorhandler.py?line=245'>246</a>\u001b[0m     \u001b[39mraise\u001b[39;00m exception_class(message, screen, stacktrace, alert_text)  \u001b[39m# type: ignore[call-arg]  # mypy is not smart enough here\u001b[39;00m\n\u001b[1;32m--> <a href='file:///c%3A/Users/jaram/miniconda3/envs/wscrap/lib/site-packages/selenium/webdriver/remote/errorhandler.py?line=246'>247</a>\u001b[0m \u001b[39mraise\u001b[39;00m exception_class(message, screen, stacktrace)\n",
      "\u001b[1;31mElementNotInteractableException\u001b[0m: Message: Element <a class=\"ui-paginator-page ui-state-default ui-corner-all\" href=\"#\"> could not be scrolled into view\nStacktrace:\nWebDriverError@chrome://remote/content/shared/webdriver/Errors.jsm:183:5\nElementNotInteractableError@chrome://remote/content/shared/webdriver/Errors.jsm:293:5\nwebdriverClickElement@chrome://remote/content/marionette/interaction.js:156:11\ninteraction.clickElement@chrome://remote/content/marionette/interaction.js:125:11\nclickElement@chrome://remote/content/marionette/actors/MarionetteCommandsChild.jsm:203:24\nreceiveMessage@chrome://remote/content/marionette/actors/MarionetteCommandsChild.jsm:91:31\n",
      "\nDuring handling of the above exception, another exception occurred:\n",
      "\u001b[1;31mStaleElementReferenceException\u001b[0m            Traceback (most recent call last)",
      "\u001b[1;32mc:\\Users\\jaram\\Documents\\2git\\juicios\\code\\webscrap\\all_trials.ipynb Cell 12'\u001b[0m in \u001b[0;36m<cell line: 2>\u001b[1;34m()\u001b[0m\n\u001b[0;32m      <a href='vscode-notebook-cell:/c%3A/Users/jaram/Documents/2git/juicios/code/webscrap/all_trials.ipynb#ch0000011?line=0'>1</a>\u001b[0m \u001b[39m# First attempt\u001b[39;00m\n\u001b[1;32m----> <a href='vscode-notebook-cell:/c%3A/Users/jaram/Documents/2git/juicios/code/webscrap/all_trials.ipynb#ch0000011?line=1'>2</a>\u001b[0m res \u001b[39m=\u001b[39m obtener_datos(procesos_listos, depnumber)\n\u001b[0;32m      <a href='vscode-notebook-cell:/c%3A/Users/jaram/Documents/2git/juicios/code/webscrap/all_trials.ipynb#ch0000011?line=2'>3</a>\u001b[0m dfrestantes \u001b[39m=\u001b[39m pd\u001b[39m.\u001b[39mconcat([procesos_listos, res[\u001b[39m'\u001b[39m\u001b[39mdf\u001b[39m\u001b[39m'\u001b[39m]], ignore_index\u001b[39m=\u001b[39m\u001b[39mTrue\u001b[39;00m)\n\u001b[0;32m      <a href='vscode-notebook-cell:/c%3A/Users/jaram/Documents/2git/juicios/code/webscrap/all_trials.ipynb#ch0000011?line=3'>4</a>\u001b[0m dfrestantes\u001b[39m.\u001b[39mto_excel(db\u001b[39m/\u001b[39m\u001b[39mf\u001b[39m\u001b[39m'\u001b[39m\u001b[39mdata/raw/resumen_\u001b[39m\u001b[39m{\u001b[39;00mdepnumber\u001b[39m}\u001b[39;00m\u001b[39m.xls\u001b[39m\u001b[39m'\u001b[39m, index\u001b[39m=\u001b[39m\u001b[39mFalse\u001b[39;00m)\n",
      "\u001b[1;32mc:\\Users\\jaram\\Documents\\2git\\juicios\\code\\webscrap\\all_trials.ipynb Cell 8'\u001b[0m in \u001b[0;36mobtener_datos\u001b[1;34m(dflistos, iddep)\u001b[0m\n\u001b[0;32m     <a href='vscode-notebook-cell:/c%3A/Users/jaram/Documents/2git/juicios/code/webscrap/all_trials.ipynb#ch0000007?line=34'>35</a>\u001b[0m \u001b[39mfor\u001b[39;00m n_attempt \u001b[39min\u001b[39;00m \u001b[39mrange\u001b[39m(num_last, \u001b[39m99999\u001b[39m\u001b[39m+\u001b[39m\u001b[39m1\u001b[39m):\n\u001b[0;32m     <a href='vscode-notebook-cell:/c%3A/Users/jaram/Documents/2git/juicios/code/webscrap/all_trials.ipynb#ch0000007?line=35'>36</a>\u001b[0m     \u001b[39mtry\u001b[39;00m:\n\u001b[0;32m     <a href='vscode-notebook-cell:/c%3A/Users/jaram/Documents/2git/juicios/code/webscrap/all_trials.ipynb#ch0000007?line=36'>37</a>\u001b[0m         \u001b[39m# Scrap the data\u001b[39;00m\n\u001b[1;32m---> <a href='vscode-notebook-cell:/c%3A/Users/jaram/Documents/2git/juicios/code/webscrap/all_trials.ipynb#ch0000007?line=37'>38</a>\u001b[0m         results_df \u001b[39m=\u001b[39m juicios(driver, iddep, \u001b[39mstr\u001b[39;49m(year), n_attempt)\n\u001b[0;32m     <a href='vscode-notebook-cell:/c%3A/Users/jaram/Documents/2git/juicios/code/webscrap/all_trials.ipynb#ch0000007?line=39'>40</a>\u001b[0m         \u001b[39m# Check if id_proceso existe\u001b[39;00m\n\u001b[0;32m     <a href='vscode-notebook-cell:/c%3A/Users/jaram/Documents/2git/juicios/code/webscrap/all_trials.ipynb#ch0000007?line=40'>41</a>\u001b[0m         \u001b[39mif\u001b[39;00m \u001b[39m'\u001b[39m\u001b[39mNo existe este proceso\u001b[39m\u001b[39m'\u001b[39m \u001b[39min\u001b[39;00m results_df\u001b[39m.\u001b[39mcausa[\u001b[39m0\u001b[39m]:\n",
      "\u001b[1;32mc:\\Users\\jaram\\Documents\\2git\\juicios\\code\\webscrap\\all_trials.ipynb Cell 6'\u001b[0m in \u001b[0;36mjuicios\u001b[1;34m(driver, dep_judicial, year, n_attempt)\u001b[0m\n\u001b[0;32m      <a href='vscode-notebook-cell:/c%3A/Users/jaram/Documents/2git/juicios/code/webscrap/all_trials.ipynb#ch0000005?line=3'>4</a>\u001b[0m id_proceso \u001b[39m=\u001b[39m (\u001b[39m5\u001b[39m\u001b[39m-\u001b[39m\u001b[39mlen\u001b[39m(\u001b[39mstr\u001b[39m(n_attempt)))\u001b[39m*\u001b[39m\u001b[39m'\u001b[39m\u001b[39m0\u001b[39m\u001b[39m'\u001b[39m \u001b[39m+\u001b[39m \u001b[39mstr\u001b[39m(n_attempt)\n\u001b[0;32m      <a href='vscode-notebook-cell:/c%3A/Users/jaram/Documents/2git/juicios/code/webscrap/all_trials.ipynb#ch0000005?line=5'>6</a>\u001b[0m \u001b[39m# Call function to webscrap\u001b[39;00m\n\u001b[1;32m----> <a href='vscode-notebook-cell:/c%3A/Users/jaram/Documents/2git/juicios/code/webscrap/all_trials.ipynb#ch0000005?line=6'>7</a>\u001b[0m result_list \u001b[39m=\u001b[39m scrap_juicios(driver, dep_judicial, year, id_proceso, delay\u001b[39m=\u001b[39;49m\u001b[39m2\u001b[39;49m)\n\u001b[0;32m      <a href='vscode-notebook-cell:/c%3A/Users/jaram/Documents/2git/juicios/code/webscrap/all_trials.ipynb#ch0000005?line=8'>9</a>\u001b[0m \u001b[39m# Convert results to pandas\u001b[39;00m\n\u001b[0;32m     <a href='vscode-notebook-cell:/c%3A/Users/jaram/Documents/2git/juicios/code/webscrap/all_trials.ipynb#ch0000005?line=9'>10</a>\u001b[0m result_df \u001b[39m=\u001b[39m pd\u001b[39m.\u001b[39mDataFrame()\n",
      "File \u001b[1;32mc:\\Users\\jaram\\Documents\\2git\\juicios\\code\\webscrap\\scrap_juicios.py:106\u001b[0m, in \u001b[0;36mscrap_juicios\u001b[1;34m(driver, dependencia, year, secuencial, delay, waits)\u001b[0m\n\u001b[0;32m    <a href='file:///c%3A/Users/jaram/Documents/2git/juicios/code/webscrap/scrap_juicios.py?line=102'>103</a>\u001b[0m \u001b[39m# Si tiene varias paginas, loop sobre todas\u001b[39;00m\n\u001b[0;32m    <a href='file:///c%3A/Users/jaram/Documents/2git/juicios/code/webscrap/scrap_juicios.py?line=103'>104</a>\u001b[0m \u001b[39melse\u001b[39;00m:\n\u001b[0;32m    <a href='file:///c%3A/Users/jaram/Documents/2git/juicios/code/webscrap/scrap_juicios.py?line=104'>105</a>\u001b[0m     npag \u001b[39m=\u001b[39m \u001b[39mlen\u001b[39m(pg\u001b[39m.\u001b[39mfind(\u001b[39m'\u001b[39m\u001b[39mspan\u001b[39m\u001b[39m'\u001b[39m, class_\u001b[39m=\u001b[39m\u001b[39m'\u001b[39m\u001b[39mui-paginator-pages\u001b[39m\u001b[39m'\u001b[39m))\n\u001b[1;32m--> <a href='file:///c%3A/Users/jaram/Documents/2git/juicios/code/webscrap/scrap_juicios.py?line=105'>106</a>\u001b[0m     ingresar(driver\u001b[39m.\u001b[39;49mfind_element(By\u001b[39m.\u001b[39;49mCSS_SELECTOR, \u001b[39m\"\u001b[39;49m\u001b[39ma.ui-paginator-page:nth-child(1)\u001b[39;49m\u001b[39m\"\u001b[39;49m), esperar)\n\u001b[0;32m    <a href='file:///c%3A/Users/jaram/Documents/2git/juicios/code/webscrap/scrap_juicios.py?line=106'>107</a>\u001b[0m     time\u001b[39m.\u001b[39msleep(delay)\n\u001b[0;32m    <a href='file:///c%3A/Users/jaram/Documents/2git/juicios/code/webscrap/scrap_juicios.py?line=108'>109</a>\u001b[0m     \u001b[39mfor\u001b[39;00m j \u001b[39min\u001b[39;00m \u001b[39mrange\u001b[39m(npag):\n\u001b[0;32m    <a href='file:///c%3A/Users/jaram/Documents/2git/juicios/code/webscrap/scrap_juicios.py?line=109'>110</a>\u001b[0m         \u001b[39m# Get text of sorteo y sentencia\u001b[39;00m\n",
      "File \u001b[1;32mc:\\Users\\jaram\\Documents\\2git\\juicios\\code\\webscrap\\scrap_juicios.py:14\u001b[0m, in \u001b[0;36mingresar\u001b[1;34m(element, espero)\u001b[0m\n\u001b[0;32m     <a href='file:///c%3A/Users/jaram/Documents/2git/juicios/code/webscrap/scrap_juicios.py?line=11'>12</a>\u001b[0m \u001b[39mexcept\u001b[39;00m:\n\u001b[0;32m     <a href='file:///c%3A/Users/jaram/Documents/2git/juicios/code/webscrap/scrap_juicios.py?line=12'>13</a>\u001b[0m     time\u001b[39m.\u001b[39msleep(espero)\n\u001b[1;32m---> <a href='file:///c%3A/Users/jaram/Documents/2git/juicios/code/webscrap/scrap_juicios.py?line=13'>14</a>\u001b[0m     element\u001b[39m.\u001b[39;49mclick()\n",
      "File \u001b[1;32m~\\miniconda3\\envs\\wscrap\\lib\\site-packages\\selenium\\webdriver\\remote\\webelement.py:81\u001b[0m, in \u001b[0;36mWebElement.click\u001b[1;34m(self)\u001b[0m\n\u001b[0;32m     <a href='file:///c%3A/Users/jaram/miniconda3/envs/wscrap/lib/site-packages/selenium/webdriver/remote/webelement.py?line=78'>79</a>\u001b[0m \u001b[39mdef\u001b[39;00m \u001b[39mclick\u001b[39m(\u001b[39mself\u001b[39m) \u001b[39m-\u001b[39m\u001b[39m>\u001b[39m \u001b[39mNone\u001b[39;00m:\n\u001b[0;32m     <a href='file:///c%3A/Users/jaram/miniconda3/envs/wscrap/lib/site-packages/selenium/webdriver/remote/webelement.py?line=79'>80</a>\u001b[0m     \u001b[39m\"\"\"Clicks the element.\"\"\"\u001b[39;00m\n\u001b[1;32m---> <a href='file:///c%3A/Users/jaram/miniconda3/envs/wscrap/lib/site-packages/selenium/webdriver/remote/webelement.py?line=80'>81</a>\u001b[0m     \u001b[39mself\u001b[39;49m\u001b[39m.\u001b[39;49m_execute(Command\u001b[39m.\u001b[39;49mCLICK_ELEMENT)\n",
      "File \u001b[1;32m~\\miniconda3\\envs\\wscrap\\lib\\site-packages\\selenium\\webdriver\\remote\\webelement.py:710\u001b[0m, in \u001b[0;36mWebElement._execute\u001b[1;34m(self, command, params)\u001b[0m\n\u001b[0;32m    <a href='file:///c%3A/Users/jaram/miniconda3/envs/wscrap/lib/site-packages/selenium/webdriver/remote/webelement.py?line=707'>708</a>\u001b[0m     params \u001b[39m=\u001b[39m {}\n\u001b[0;32m    <a href='file:///c%3A/Users/jaram/miniconda3/envs/wscrap/lib/site-packages/selenium/webdriver/remote/webelement.py?line=708'>709</a>\u001b[0m params[\u001b[39m'\u001b[39m\u001b[39mid\u001b[39m\u001b[39m'\u001b[39m] \u001b[39m=\u001b[39m \u001b[39mself\u001b[39m\u001b[39m.\u001b[39m_id\n\u001b[1;32m--> <a href='file:///c%3A/Users/jaram/miniconda3/envs/wscrap/lib/site-packages/selenium/webdriver/remote/webelement.py?line=709'>710</a>\u001b[0m \u001b[39mreturn\u001b[39;00m \u001b[39mself\u001b[39;49m\u001b[39m.\u001b[39;49m_parent\u001b[39m.\u001b[39;49mexecute(command, params)\n",
      "File \u001b[1;32m~\\miniconda3\\envs\\wscrap\\lib\\site-packages\\selenium\\webdriver\\remote\\webdriver.py:424\u001b[0m, in \u001b[0;36mWebDriver.execute\u001b[1;34m(self, driver_command, params)\u001b[0m\n\u001b[0;32m    <a href='file:///c%3A/Users/jaram/miniconda3/envs/wscrap/lib/site-packages/selenium/webdriver/remote/webdriver.py?line=421'>422</a>\u001b[0m response \u001b[39m=\u001b[39m \u001b[39mself\u001b[39m\u001b[39m.\u001b[39mcommand_executor\u001b[39m.\u001b[39mexecute(driver_command, params)\n\u001b[0;32m    <a href='file:///c%3A/Users/jaram/miniconda3/envs/wscrap/lib/site-packages/selenium/webdriver/remote/webdriver.py?line=422'>423</a>\u001b[0m \u001b[39mif\u001b[39;00m response:\n\u001b[1;32m--> <a href='file:///c%3A/Users/jaram/miniconda3/envs/wscrap/lib/site-packages/selenium/webdriver/remote/webdriver.py?line=423'>424</a>\u001b[0m     \u001b[39mself\u001b[39;49m\u001b[39m.\u001b[39;49merror_handler\u001b[39m.\u001b[39;49mcheck_response(response)\n\u001b[0;32m    <a href='file:///c%3A/Users/jaram/miniconda3/envs/wscrap/lib/site-packages/selenium/webdriver/remote/webdriver.py?line=424'>425</a>\u001b[0m     response[\u001b[39m'\u001b[39m\u001b[39mvalue\u001b[39m\u001b[39m'\u001b[39m] \u001b[39m=\u001b[39m \u001b[39mself\u001b[39m\u001b[39m.\u001b[39m_unwrap_value(\n\u001b[0;32m    <a href='file:///c%3A/Users/jaram/miniconda3/envs/wscrap/lib/site-packages/selenium/webdriver/remote/webdriver.py?line=425'>426</a>\u001b[0m         response\u001b[39m.\u001b[39mget(\u001b[39m'\u001b[39m\u001b[39mvalue\u001b[39m\u001b[39m'\u001b[39m, \u001b[39mNone\u001b[39;00m))\n\u001b[0;32m    <a href='file:///c%3A/Users/jaram/miniconda3/envs/wscrap/lib/site-packages/selenium/webdriver/remote/webdriver.py?line=426'>427</a>\u001b[0m     \u001b[39mreturn\u001b[39;00m response\n",
      "File \u001b[1;32m~\\miniconda3\\envs\\wscrap\\lib\\site-packages\\selenium\\webdriver\\remote\\errorhandler.py:247\u001b[0m, in \u001b[0;36mErrorHandler.check_response\u001b[1;34m(self, response)\u001b[0m\n\u001b[0;32m    <a href='file:///c%3A/Users/jaram/miniconda3/envs/wscrap/lib/site-packages/selenium/webdriver/remote/errorhandler.py?line=244'>245</a>\u001b[0m         alert_text \u001b[39m=\u001b[39m value[\u001b[39m'\u001b[39m\u001b[39malert\u001b[39m\u001b[39m'\u001b[39m]\u001b[39m.\u001b[39mget(\u001b[39m'\u001b[39m\u001b[39mtext\u001b[39m\u001b[39m'\u001b[39m)\n\u001b[0;32m    <a href='file:///c%3A/Users/jaram/miniconda3/envs/wscrap/lib/site-packages/selenium/webdriver/remote/errorhandler.py?line=245'>246</a>\u001b[0m     \u001b[39mraise\u001b[39;00m exception_class(message, screen, stacktrace, alert_text)  \u001b[39m# type: ignore[call-arg]  # mypy is not smart enough here\u001b[39;00m\n\u001b[1;32m--> <a href='file:///c%3A/Users/jaram/miniconda3/envs/wscrap/lib/site-packages/selenium/webdriver/remote/errorhandler.py?line=246'>247</a>\u001b[0m \u001b[39mraise\u001b[39;00m exception_class(message, screen, stacktrace)\n",
      "\u001b[1;31mStaleElementReferenceException\u001b[0m: Message: The element reference of <a class=\"ui-paginator-page ui-state-default ui-corner-all\" href=\"#\"> is stale; either the element is no longer attached to the DOM, it is not in the current frame context, or the document has been refreshed\nStacktrace:\nWebDriverError@chrome://remote/content/shared/webdriver/Errors.jsm:183:5\nStaleElementReferenceError@chrome://remote/content/shared/webdriver/Errors.jsm:464:5\nelement.resolveElement@chrome://remote/content/marionette/element.js:681:11\nevaluate.fromJSON@chrome://remote/content/marionette/evaluate.js:254:26\nevaluate.fromJSON@chrome://remote/content/marionette/evaluate.js:262:29\nreceiveMessage@chrome://remote/content/marionette/actors/MarionetteCommandsChild.jsm:79:29\n"
     ]
    }
   ],
   "source": [
    "# First attempt\n",
    "res = obtener_datos(procesos_listos, depnumber)\n",
    "dfrestantes = pd.concat([procesos_listos, res['df']], ignore_index=True)\n",
    "dfrestantes.to_excel(db/f'data/raw/resumen_{depnumber}.xls', index=False)\n",
    "\n",
    "# Loop while false\n",
    "while res['estado'] == False:\n",
    "    res = obtener_datos(dfrestantes, depnumber)\n",
    "    dfrestantes = pd.concat([procesos_listos, res['df']], ignore_index=True)\n",
    "    dfrestantes.to_excel(db/f'data/raw/resumen_{depnumber}.xls', index=False)\n",
    "\n",
    "# Save if true\n",
    "else:\n",
    "    dfrestantes = pd.concat([procesos_listos, res['df']], ignore_index=True)\n",
    "    dfrestantes.to_excel(db/f'data/raw/resumen_{depnumber}.xls', index=False)\n",
    "    print('Finally!!!')\n"
   ]
  }
 ],
 "metadata": {
  "interpreter": {
   "hash": "9ef9b2186aea4605a870dc78e0859b2817db6154424ae021908cee60e95154f5"
  },
  "kernelspec": {
   "display_name": "Python 3.10.4 ('wscrap')",
   "language": "python",
   "name": "python3"
  },
  "language_info": {
   "codemirror_mode": {
    "name": "ipython",
    "version": 3
   },
   "file_extension": ".py",
   "mimetype": "text/x-python",
   "name": "python",
   "nbconvert_exporter": "python",
   "pygments_lexer": "ipython3",
   "version": "3.10.4"
  },
  "orig_nbformat": 4
 },
 "nbformat": 4,
 "nbformat_minor": 2
}
